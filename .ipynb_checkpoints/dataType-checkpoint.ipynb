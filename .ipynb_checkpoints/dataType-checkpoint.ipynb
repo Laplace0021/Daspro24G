{
 "cells": [
  {
   "cell_type": "code",
   "execution_count": 7,
   "id": "f764aec3-0b9a-4d8a-8c59-4932b287d49e",
   "metadata": {},
   "outputs": [
    {
     "name": "stdout",
     "output_type": "stream",
     "text": [
      "Nama : Muhammad Djibriel Maulidan\n",
      "Umur : 19\n",
      "alamat:  Cisaat\n",
      "Nilai Python : 95.2\n",
      "Status Menikah : False\n"
     ]
    }
   ],
   "source": [
    "name = \"Muhammad Djibriel Maulidan\"\n",
    "age = 19\n",
    "address,province = \"Cisaat\", \"120219\"\n",
    "scorePython = 95.2\n",
    "isMarried = False\n",
    "\n",
    "print(\"Nama :\",nama)\n",
    "print(\"Umur :\", age)\n",
    "print(\"alamat: \",address)\n",
    "print(\"Nilai Python :\",scorePython)\n",
    "print(\"Status Menikah :\",isMarried)"
   ]
  },
  {
   "cell_type": "code",
   "execution_count": 9,
   "id": "74c2224b-d8fe-4ce6-a3e3-77405133af91",
   "metadata": {},
   "outputs": [
    {
     "name": "stdout",
     "output_type": "stream",
     "text": [
      "Tipe Data <nama> <class 'str'>\n",
      "Tipe Data <umur> <class 'int'>\n",
      "Tipe Data <alamat> <class 'str'>\n",
      "Tipe Data <provinsi> <class 'str'>\n",
      "Tipe Data <nilai> <class 'float'>\n",
      "Tipe Data <status> <class 'bool'>\n"
     ]
    }
   ],
   "source": [
    "print(\"Tipe Data <nama>\", type(name))\n",
    "print(\"Tipe Data <umur>\", type(age))\n",
    "print(\"Tipe Data <alamat>\", type(address))\n",
    "print(\"Tipe Data <provinsi>\", type(province))\n",
    "print(\"Tipe Data <nilai>\", type(scorePython))\n",
    "print(\"Tipe Data <status>\", type(isMarried))"
   ]
  },
  {
   "cell_type": "code",
   "execution_count": 19,
   "id": "c3174b21-f13a-4049-8824-ff4f77f869c3",
   "metadata": {},
   "outputs": [
    {
     "name": "stdout",
     "output_type": "stream",
     "text": [
      "120219 - 120219.0 - True\n",
      "19 - 19.0 - True\n",
      "95.2 - 95 - True\n",
      "0 - 0.0 - False\n"
     ]
    }
   ],
   "source": [
    "#Casting atau konversi tipe data\n",
    "#Konversi dari String ke (int,float,bool)\n",
    "StrToInt = int(province)\n",
    "StrToFloat = float(province)\n",
    "StrToBool = bool(province)\n",
    "print(StrToInt,StrToFloat,StrToBool, sep=' - ')\n",
    "#Konversi dari int ke (str,float,bool)\n",
    "IntToStr = str(age)\n",
    "IntToFloat = float(age)\n",
    "IntToBool = bool(age)\n",
    "print(IntToStr,IntToFloat,IntToBool, sep=' - ')\n",
    "#Konversi dari float ke (str,int,bool)\n",
    "FloatToStr = str(scorePython)\n",
    "FloatToInt = int(scorePython)\n",
    "FloatToBool = bool(scorePython)\n",
    "print(FloatToStr,FloatToInt,FloatToBool, sep=' - ')\n",
    "#Konversi dari bool ke (int,float,str)\n",
    "BoolToInt = int(isMarried)\n",
    "BoolToFloat = float(isMarried)\n",
    "BoolToStr = str(isMarried)\n",
    "print(BoolToInt,BoolToFloat,BoolToStr, sep=\" - \")"
   ]
  },
  {
   "cell_type": "code",
   "execution_count": 29,
   "id": "4c414090-3f4b-4083-a3a1-f1ee054ca568",
   "metadata": {},
   "outputs": [
    {
     "name": "stdout",
     "output_type": "stream",
     "text": [
      "Nilai desimal : 100\n",
      "Nilai biner : 10\n",
      "Nilai oktal : 255\n",
      "Nilai Hexadesimal : 255\n",
      "Nilai biner dari 100 : 0b1100100\n",
      "Nilai Oktal dari 100 : 0o144\n",
      "Nilai hexadesimal dari 100 : 0x64\n"
     ]
    }
   ],
   "source": [
    "#Tipe data basis bilangan (desimal, biner, oktal, hexa)\n",
    "decimal = 100\n",
    "biner = 0b1010 #10\n",
    "octal = 0o377 #255\n",
    "hexa = 0xff #255\n",
    "\n",
    "print(\"Nilai desimal :\",decimal)\n",
    "print(\"Nilai biner :\",biner)\n",
    "print(\"Nilai oktal :\", octal)\n",
    "print(\"Nilai Hexadesimal :\",hexa)\n",
    "\n",
    "print(\"Nilai biner dari\",decimal,\":\", bin(decimal))\n",
    "print(\"Nilai Oktal dari\", decimal, \":\",oct(decimal))\n",
    "print(\"Nilai hexadesimal dari\",decimal,\":\",hex(decimal))"
   ]
  },
  {
   "cell_type": "code",
   "execution_count": 49,
   "id": "fb7381ba-e6d2-431f-a692-cde0b0945d52",
   "metadata": {},
   "outputs": [
    {
     "name": "stdout",
     "output_type": "stream",
     "text": [
      "['Bandung', 'Sukabumi', 'Jakarta', 'Makassar', 'Surabaya']\n",
      "Bandung\n",
      "Surabaya\n",
      "S\n",
      "a\n",
      "['Bali', 'Sukabumi', 'Jakarta', 'Makassar', 'Surabaya']\n",
      "('Djibriel', 'Ibnu', 'Hamudi')\n",
      "Djibriel\n",
      "{'name': 'Muhammad Djibriel Maulidan', 'age': 19, 'address': {'Street': 'Mangkalaya', 'Number': 13, 'Province': 'Jawa Barat'}, 'isMarried': False, 'Hobbies': ['Basket Ball', 'Reading']}\n",
      "19\n",
      "Jawa Barat\n",
      "Basket Ball\n",
      "{'name': 'Muhammad Djibriel Maulidan', 'age': 19, 'address': {'Street': 'Mangkalaya', 'Number': 13, 'Province': 'Jawa Barat'}, 'isMarried': False, 'Hobbies': ['Basket Ball', 'Reading']}\n",
      "{'name': 'Muhammad Dwi Haryanto', 'age': 19, 'address': {'Street': 'Mangkalaya', 'Number': 15, 'Province': 'Jawa Barat'}, 'isMarried': False, 'Hobbies': ['Chess', 'Drawing']}\n",
      "Jawa Barat\n"
     ]
    }
   ],
   "source": [
    "#Tipe data collection\n",
    "#List\n",
    "cities =[\"Bandung\",\"Sukabumi\",\"Jakarta\",\"Makassar\",\"Surabaya\"]\n",
    "lengthCities = len(cities)\n",
    "print(cities)\n",
    "print(cities[0])\n",
    "print(cities[lengthCities-1])\n",
    "print(cities[lengthCities-1][0]) #\n",
    "print(cities[lengthCities-1][len(cities[lengthCities-1])-1])\n",
    "cities[0] = \"Bali\"\n",
    "#cities[5] =\"medan\" akan menyebabkan error out of range karena index hanya sampai 4\n",
    "print(cities)\n",
    "\n",
    "#Tuple\n",
    "names =(\"Djibriel\",\"Ibnu\",\"Hamudi\")\n",
    "print(names)\n",
    "print(names[0])\n",
    "#names[0]=\"Gidzane\" akan menyebabkan error karena tuple adalah immutable\n",
    "\n",
    "#Dictionary\n",
    "studentData={\n",
    "    \"name\":\"Muhammad Djibriel Maulidan\",\n",
    "    \"age\":19,\n",
    "    \"address\": {\n",
    "        \"Street\":\"Mangkalaya\",\n",
    "        \"Number\":13,\n",
    "        \"Province\":\"Jawa Barat\"},\n",
    "    \"isMarried\":False,\n",
    "    \"Hobbies\":[\"Basket Ball\",\"Reading\"]}\n",
    "print(studentData)\n",
    "print(studentData[\"age\"])\n",
    "print(studentData[\"address\"][\"Province\"])\n",
    "print(studentData[\"Hobbies\"][0])\n",
    "\n",
    "#List of Dictionary\n",
    "studentList = [\n",
    "    {\n",
    "    \"name\":\"Muhammad Djibriel Maulidan\",\n",
    "    \"age\":19,\n",
    "    \"address\": {\n",
    "        \"Street\":\"Mangkalaya\",\n",
    "        \"Number\":13,\n",
    "        \"Province\":\"Jawa Barat\"},\n",
    "    \"isMarried\":False,\n",
    "    \"Hobbies\":[\"Basket Ball\",\"Reading\"]\n",
    "    },\n",
    "    {\n",
    "    \"name\":\"Muhammad Dwi Haryanto\",\n",
    "    \"age\":19,\n",
    "    \"address\": {\n",
    "        \"Street\":\"Mangkalaya\",\n",
    "        \"Number\":15,\n",
    "        \"Province\":\"Jawa Barat\"},\n",
    "    \"isMarried\":False,\n",
    "    \"Hobbies\":[\"Chess\",\"Drawing\"]}\n",
    "]\n",
    "print(studentList[0])\n",
    "print(studentList[1])\n",
    "print(studentList[1][\"address\"][\"Province\"])"
   ]
  },
  {
   "cell_type": "code",
   "execution_count": 63,
   "id": "98f87d98-0be4-4637-9253-7196d9ddd5ee",
   "metadata": {},
   "outputs": [
    {
     "name": "stdout",
     "output_type": "stream",
     "text": [
      "{'name': 'Djibriel', 'age': 19, 'Status': False}\n",
      "{'name': 'Djibriel', 'Address': 'Mangkalaya'}\n",
      "{'name': 'cow', 'type': 'Mamalia'}\n",
      "{'name': 'cow', 'type': 'Mamalia'}\n",
      "{'Vehicle': 'Car', 'Brand': 'BMW', 'cc': 2500}\n"
     ]
    }
   ],
   "source": [
    "#Konversi ke Dictionary\n",
    "List_List = [[\"name\",\"Djibriel\"],[\"age\",19],[\"Status\",False]]\n",
    "DictListStudent= dict(List_List)\n",
    "print(DictListStudent)\n",
    "\n",
    "List_Tuple = [(\"name\",\"Djibriel\"),(\"Address\",\"Mangkalaya\")]\n",
    "DictTupleStudent = dict(List_Tuple)\n",
    "print(DictTupleStudent)\n",
    "\n",
    "Tuple_List= ([\"name\",\"cow\"],[\"type\",\"Mamalia\"])\n",
    "DictListAnimal = dict(Tuple_List)\n",
    "print(DictListAnimal)\n",
    "\n",
    "Tuple_Tuple =((\"Name\",\"Crocodile\"),(\"Type\",\"Reptile\"))\n",
    "DictTupleAnimal = dict(Tuple_Tuple)\n",
    "print(DictListAnimal)\n",
    "\n",
    "keys = [\"Vehicle\",\"Brand\",\"cc\"]\n",
    "values = [\"Car\",\"BMW\",2500]\n",
    "car=dict(zip(keys,values))\n",
    "print(car)"
   ]
  },
  {
   "cell_type": "code",
   "execution_count": null,
   "id": "02de6741-a0c4-4a63-8216-f38f7e55741e",
   "metadata": {},
   "outputs": [],
   "source": []
  }
 ],
 "metadata": {
  "kernelspec": {
   "display_name": "Python [conda env:base] *",
   "language": "python",
   "name": "conda-base-py"
  },
  "language_info": {
   "codemirror_mode": {
    "name": "ipython",
    "version": 3
   },
   "file_extension": ".py",
   "mimetype": "text/x-python",
   "name": "python",
   "nbconvert_exporter": "python",
   "pygments_lexer": "ipython3",
   "version": "3.12.7"
  }
 },
 "nbformat": 4,
 "nbformat_minor": 5
}
