{
 "cells": [
  {
   "cell_type": "code",
   "execution_count": null,
   "id": "ae443d86-b85b-4b81-9022-b8e9f1347127",
   "metadata": {},
   "outputs": [],
   "source": [
    "import numpy as np"
   ]
  },
  {
   "cell_type": "code",
   "execution_count": null,
   "id": "0627b63d-b0b2-4839-a489-c122658adbf1",
   "metadata": {},
   "outputs": [],
   "source": [
    "mat1D = np.array([1,2,5,6,8,3])\n",
    "mat2D = np.array([[10,20,30],[40,50,60],[70,80,90]])\n",
    "print(f\"nilai matriks 1D: \\n{mat1D}\")\n",
    "print(f\"nilai matriks 2D: \\n{mat2D}\")\n"
   ]
  },
  {
   "cell_type": "code",
   "execution_count": null,
   "id": "edc76654-95be-4803-a45c-5a0e19f0706a",
   "metadata": {},
   "outputs": [],
   "source": [
    "print(mat1D[1])\n",
    "print(mat2D[1])\n",
    "print(mat2D[1][2])"
   ]
  },
  {
   "cell_type": "code",
   "execution_count": null,
   "id": "a15b16bc-f883-42ad-890a-8a4a39572257",
   "metadata": {},
   "outputs": [],
   "source": [
    "print(f\"mat1D + 10 : \\n{mat1D+10}\")\n",
    "print(f\"mat2D + 2 : \\n{mat2D+2}\")\n",
    "print(f\"mat2D + 2 di baris 1 : \\n{mat2D[1]+2}\")\n"
   ]
  },
  {
   "cell_type": "code",
   "execution_count": 139,
   "id": "eadaf49a-1b9d-4c3b-bccd-dd3ff76a3383",
   "metadata": {},
   "outputs": [
    {
     "name": "stdout",
     "output_type": "stream",
     "text": [
      "(6,)\n",
      "6\n",
      "(3, 3)\n",
      "9\n"
     ]
    }
   ],
   "source": [
    "print(mat1D.shape)\n",
    "print(mat1D.size)\n",
    "print(mat2D.shape)\n",
    "print(mat2D.size)"
   ]
  },
  {
   "cell_type": "code",
   "execution_count": null,
   "id": "19971331-be5b-4fcc-ae65-54dd5922327b",
   "metadata": {},
   "outputs": [],
   "source": [
    "#matriks special\n",
    "mZero = np.zeros((4,4))\n",
    "print(mZero)\n",
    "mOne = np.ones((4,4))\n",
    "print(mOne)\n",
    "mIdentity = np.eye(4)\n",
    "print(mIdentity)\n",
    "mFull = np.full((4,4),5)\n",
    "print(mFull)\n",
    "mRand1D = np.random.rand(5)\n",
    "print(mRand1D)\n",
    "mRand2D = np.random.rand(5,5)\n",
    "print(mRand2D)\n",
    "mRandint1D = np.random.randint(1,10, size=8)\n",
    "print(mRandint1D)\n",
    "mRandint2D = np.random.randint(1,100, size=(3,3))\n",
    "print(mRandint2D)"
   ]
  },
  {
   "cell_type": "code",
   "execution_count": null,
   "id": "0583239a-86a8-4109-b89a-9c7203205c17",
   "metadata": {},
   "outputs": [],
   "source": [
    "#operasi aritmatika\n",
    "x = np.array([1,2,3,4,5])\n",
    "y = np.array([6,7,8,9,10])\n",
    "r1 = np.add(x,y)\n",
    "r2 = np.dot(x,y)\n",
    "print(f\"hasil dari menjumlahkan x dan y: {r1}\")\n",
    "print(f\"hasil dari perkalian dot product: {r2}\")"
   ]
  },
  {
   "cell_type": "code",
   "execution_count": null,
   "id": "7304883d-845d-43bc-befd-dff9ca64948c",
   "metadata": {},
   "outputs": [],
   "source": [
    "#Fungsi dasar Statistik\n",
    "nilaiProgramming = np.array([100,90,90,50,80,60,50,85])\n",
    "print(f\"Nilai pemrograman: {nilaiProgramming}\")\n",
    "print(f\"Nilai yang paling rendah: {np.min(nilaiProgramming)}\")\n",
    "print(f\"Nilai yang paling tinggi: {np.max(nilaiProgramming)}\")\n",
    "print(f\"Nilai rata-rata: {np.mean(nilaiProgramming)}\")\n",
    "print(f\"Nilai total keseluruhan: {np.sum(nilaiProgramming)}\")\n",
    "print(f\"Nilai standar deviasi: {np.std(nilaiProgramming)}\")\n",
    "print(f\"Nilai standar tengah: {np.median(nilaiProgramming)}\")"
   ]
  },
  {
   "cell_type": "code",
   "execution_count": null,
   "id": "ac60a6d5-3576-4c11-a493-ff0b7e74b380",
   "metadata": {},
   "outputs": [],
   "source": [
    "#operasi bentuk\n",
    "matX=np.array([[1,2,3,4,5],[6,7,8,9,10]])\n",
    "print(f\"Matriks X adalah: \\n{matX}\")\n",
    "print(f\"Matriks X diubah bentuk: \\n{matX.reshape(10,1)}\")\n",
    "print(f\"Matriks X diubah menjadi bentuk flat: \\n{matX.flatten()}\")"
   ]
  },
  {
   "cell_type": "code",
   "execution_count": null,
   "id": "f0f22441-479a-4228-8e1e-30f9ea40dda2",
   "metadata": {},
   "outputs": [],
   "source": [
    "#filterring\n",
    "lulus= nilaiProgramming[nilaiProgramming >50]\n",
    "print(f\"Daftar nilai yang lulus: {lulus}\")\n",
    "print(f\"Daftar nilai yang lulus: {lulus.size}\")\n"
   ]
  },
  {
   "cell_type": "markdown",
   "id": "1f0e8f27-c938-49e6-91f7-7e15c4c0fac2",
   "metadata": {},
   "source": [
    "<b1>Contoh Kasus Data</b1>\n",
    "Buatlah data set sebanyak 10.000 untuk prosses klasifikasi Nasabah Kartu Kredit\n",
    "<ol>\n",
    "    <li>Usia : 17 - 60</li>\n",
    "    <li>Gender : L/P</li>\n",
    "    <li>Gaji : 1jt-3jt, 3jt-5jt, 5jt-10jt </li>\n",
    "    <li>Jumlah Anak : 0 - 6</li>\n",
    "    \n",
    "</ol>"
   ]
  },
  {
   "cell_type": "code",
   "execution_count": 159,
   "id": "8edb0a7e-ef33-4514-86e4-4da2bdd956c0",
   "metadata": {},
   "outputs": [
    {
     "name": "stdout",
     "output_type": "stream",
     "text": [
      "<class 'pandas.core.frame.DataFrame'>\n",
      "RangeIndex: 10000 entries, 0 to 9999\n",
      "Data columns (total 4 columns):\n",
      " #   Column       Non-Null Count  Dtype \n",
      "---  ------       --------------  ----- \n",
      " 0   Usia         10000 non-null  int32 \n",
      " 1   Gender       10000 non-null  object\n",
      " 2   Gaji         10000 non-null  object\n",
      " 3   Jumlah Anak  10000 non-null  int32 \n",
      "dtypes: int32(2), object(2)\n",
      "memory usage: 234.5+ KB\n",
      "None\n",
      "   Usia Gender    Gaji  Jumlah Anak\n",
      "0    51      L   1-3jt            4\n",
      "1    40      P   1-3jt            3\n",
      "2    45      P   3-5jt            6\n",
      "3    59      P  5-10jt            0\n",
      "4    32      P   3-5jt            2\n"
     ]
    }
   ],
   "source": [
    "import numpy as np\n",
    "import pandas as pd\n",
    "\n",
    "n_data = 10000\n",
    "usia = np.random.randint(17,61, size=n_data)\n",
    "gender = np.random.choice(['L','P'], size = n_data)\n",
    "gaji = np.random.choice(['1-3jt','3-5jt','5-10jt'], size=n_data)\n",
    "anak = np.random.randint(0,7,size=n_data)\n",
    "\n",
    "df = pd.DataFrame({\n",
    "    'Usia': usia,\n",
    "    'Gender' : gender,\n",
    "    'Gaji' : gaji,\n",
    "    'Jumlah Anak' : anak\n",
    "})\n",
    "df.to_csv('data_calon_nasabah.csv')\n",
    "print(df.info())\n",
    "print(df.head())\n",
    "print(df.shape)"
   ]
  }
 ],
 "metadata": {
  "kernelspec": {
   "display_name": "Python [conda env:base] *",
   "language": "python",
   "name": "conda-base-py"
  },
  "language_info": {
   "codemirror_mode": {
    "name": "ipython",
    "version": 3
   },
   "file_extension": ".py",
   "mimetype": "text/x-python",
   "name": "python",
   "nbconvert_exporter": "python",
   "pygments_lexer": "ipython3",
   "version": "3.12.7"
  }
 },
 "nbformat": 4,
 "nbformat_minor": 5
}
