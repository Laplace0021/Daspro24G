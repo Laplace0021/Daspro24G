{
 "cells": [
  {
   "cell_type": "code",
   "execution_count": 1,
   "id": "70caed04-7066-460a-b7d1-694c2bd4b96a",
   "metadata": {},
   "outputs": [
    {
     "name": "stdout",
     "output_type": "stream",
     "text": [
      "<class 'pandas.core.frame.DataFrame'>\n",
      "RangeIndex: 2380 entries, 0 to 2379\n",
      "Data columns (total 15 columns):\n",
      " #   Column               Non-Null Count  Dtype  \n",
      "---  ------               --------------  -----  \n",
      " 0   game_name            2380 non-null   object \n",
      " 1   reviews_like_rate    2380 non-null   int64  \n",
      " 2   all_reviews_number   2380 non-null   int64  \n",
      " 3   release_date         2380 non-null   object \n",
      " 4   developer            2380 non-null   object \n",
      " 5   user_defined_tags    2380 non-null   object \n",
      " 6   supported_os         2380 non-null   object \n",
      " 7   supported_languages  2380 non-null   object \n",
      " 8   price                2380 non-null   float64\n",
      " 9   other_features       2380 non-null   object \n",
      " 10  age_restriction      2380 non-null   int64  \n",
      " 11  rating               2380 non-null   float64\n",
      " 12  difficulty           2380 non-null   int64  \n",
      " 13  length               2380 non-null   int64  \n",
      " 14  estimated_downloads  2380 non-null   int64  \n",
      "dtypes: float64(2), int64(6), object(7)\n",
      "memory usage: 279.0+ KB\n"
     ]
    }
   ],
   "source": [
    "import pandas as pd\n",
    "df= pd.read_csv('bestSelling_games.csv')\n",
    "\n",
    "df.info()"
   ]
  },
  {
   "cell_type": "code",
   "execution_count": 2,
   "id": "c0c9c133-dca0-4421-b06a-b8d4959e581a",
   "metadata": {},
   "outputs": [
    {
     "name": "stdout",
     "output_type": "stream",
     "text": [
      "Developer paling populer\n"
     ]
    },
    {
     "data": {
      "text/plain": [
       "developer\n",
       "Valve                971570000\n",
       "PUBG Corporation     162350000\n",
       "Facepunch Studios     99327800\n",
       "Infinity Ward         99272000\n",
       "Pocketpair            98840000\n",
       "Respawn               93560000\n",
       "Re-Logic              93430000\n",
       "Treyarch              89018000\n",
       "Ubisoft Montreal      88318500\n",
       "Game Science          70830000\n",
       "Name: estimated_downloads, dtype: int64"
      ]
     },
     "execution_count": 2,
     "metadata": {},
     "output_type": "execute_result"
    }
   ],
   "source": [
    "print(\"Developer paling populer\")\n",
    "df.groupby('developer')['estimated_downloads'].sum().sort_values(ascending=False).head(10)\n"
   ]
  },
  {
   "cell_type": "code",
   "execution_count": 3,
   "id": "7e93c57e-7a2d-458d-819b-1b4428c13b02",
   "metadata": {},
   "outputs": [
    {
     "name": "stdout",
     "output_type": "stream",
     "text": [
      "Game paling populer\n"
     ]
    },
    {
     "data": {
      "text/plain": [
       "game_name\n",
       "Counter-Strike 2              306170000\n",
       "Dota 2                        234950000\n",
       "PUBG: BATTLEGROUNDS           162350000\n",
       "Team Fortress 2                99070000\n",
       "Palworld                       98840000\n",
       "Apex Legends™                  93560000\n",
       "Terraria                       93430000\n",
       "Black Myth: Wukong             70830000\n",
       "Call of Duty®: Warzone™        70450000\n",
       "Call of Duty®: Black Ops 6     70450000\n",
       "Name: estimated_downloads, dtype: int64"
      ]
     },
     "execution_count": 3,
     "metadata": {},
     "output_type": "execute_result"
    }
   ],
   "source": [
    "print(\"Game paling populer\")\n",
    "df.groupby('game_name')['estimated_downloads'].sum().sort_values(ascending=False).head(10)\n"
   ]
  },
  {
   "cell_type": "code",
   "execution_count": 4,
   "id": "2c1b22b5-940a-49e4-a293-985f4f7dc39f",
   "metadata": {},
   "outputs": [
    {
     "name": "stdout",
     "output_type": "stream",
     "text": [
      "Total:  2380.0\n",
      "gratis:  169.0\n",
      "Berbayar  2211.0\n"
     ]
    }
   ],
   "source": [
    "print(\"Total Game: \", df.size/15)\n",
    "gratis = df[df['price']==0.00]\n",
    "print(\"gratis: \",gratis.size/15)\n",
    "berbayar = df.size\n",
    "print(\"Berbayar \",berbayar/15 - gratis.size/15)"
   ]
  }
 ],
 "metadata": {
  "kernelspec": {
   "display_name": "Python [conda env:base] *",
   "language": "python",
   "name": "conda-base-py"
  },
  "language_info": {
   "codemirror_mode": {
    "name": "ipython",
    "version": 3
   },
   "file_extension": ".py",
   "mimetype": "text/x-python",
   "name": "python",
   "nbconvert_exporter": "python",
   "pygments_lexer": "ipython3",
   "version": "3.12.7"
  }
 },
 "nbformat": 4,
 "nbformat_minor": 5
}
