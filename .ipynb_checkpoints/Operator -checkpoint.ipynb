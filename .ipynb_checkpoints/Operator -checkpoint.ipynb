{
 "cells": [
  {
   "cell_type": "markdown",
   "id": "eddcaf5c-7e7b-49b6-b3d3-33fe4f7c484f",
   "metadata": {},
   "source": [
    "<h1>Operasi Aritmatika</h1>"
   ]
  },
  {
   "cell_type": "code",
   "execution_count": 12,
   "id": "72bb9297-bcf6-438e-9d1d-435903bf074c",
   "metadata": {},
   "outputs": [
    {
     "name": "stdin",
     "output_type": "stream",
     "text": [
      "Isikan Nilai X : 10\n",
      "Isikan Nilai Y : 3\n"
     ]
    },
    {
     "name": "stdout",
     "output_type": "stream",
     "text": [
      "Hasil Penjumlahan 10 + 3 = 13\n",
      "Hasil Pengurangan 10 - 3 = 7\n",
      "Hasil Perkalian 10 * 3 = 30\n",
      "Hasil pembagian 10 / 3 = 3.3333333333333335\n",
      "Hasil Modulus 10 % 3 = 1\n",
      "Hasil Pangkat 10 ^ 3 = 1000\n",
      "Hasil Pembagian Bulat 10 // 3 = 3\n"
     ]
    }
   ],
   "source": [
    "x= int(input(\"Isikan Nilai x :\"))\n",
    "y= int(input(\"Isikan Nilai y :\"))\n",
    "hasilTambah = x+y\n",
    "hasilKurang = x-y\n",
    "hasilKali = x*y\n",
    "hasilBagi = x/y\n",
    "hasilMod = x%y\n",
    "hasilPangkat = x**y\n",
    "hasilBagiBulat = x//y\n",
    "\n",
    "print(\"Hasil Penjumlahan\",x,\"+\",y,\"=\",hasilTambah)\n",
    "print(\"Hasil Pengurangan\",x,\"-\",y,\"=\",hasilKurang)\n",
    "print(\"Hasil Perkalian\",x,\"*\",y,\"=\",hasilKali)\n",
    "print(\"Hasil pembagian\",x,\"/\",y,\"=\",hasilBagi)\n",
    "print(\"Hasil Modulus\",x,\"%\",y,\"=\",hasilMod)\n",
    "print(\"Hasil Pangkat\",x,\"^\",y,\"=\",hasilPangkat)\n",
    "print(\"Hasil Pembagian Bulat\",x,\"//\",y,\"=\",hasilBagiBulat)"
   ]
  },
  {
   "cell_type": "markdown",
   "id": "973c1ef9-847d-42f2-b20f-e8953b38193d",
   "metadata": {},
   "source": [
    "<h1>Operasi Penugasan</h1>"
   ]
  },
  {
   "cell_type": "code",
   "execution_count": null,
   "id": "31bbecf6-d417-406b-91d9-eb1d12c8f000",
   "metadata": {},
   "outputs": [],
   "source": [
    "number = int(input(\"Isikan Nilai :\"))\n",
    "print(\"Nilai dari Variabel 'number' :\",number)\n",
    "number+=5\n",
    "print(\"Setelah ditambah dengan 5 :\",number)\n",
    "number-=10\n",
    "print(\"Kemudian dikurang dengan 10 :\",number)\n",
    "number/=2\n",
    "print(\"Selanjutnya dibagi dengan 2 :\",number)\n",
    "number*=5\n",
    "print(\"Terakhir dikali dengan 5 :\",number)\n"
   ]
  },
  {
   "cell_type": "markdown",
   "id": "246424da-a73e-4048-a0ea-391a634edf1c",
   "metadata": {},
   "source": [
    "<h1>Operasi Perbandingan</h1>"
   ]
  },
  {
   "cell_type": "code",
   "execution_count": 23,
   "id": "22bb185b-b7ee-4b2c-afd3-e6230a78aab9",
   "metadata": {
    "scrolled": true
   },
   "outputs": [
    {
     "name": "stdin",
     "output_type": "stream",
     "text": [
      "Masukan Nilai val1: 6\n",
      "Masukan Nilai val2: 6\n"
     ]
    },
    {
     "name": "stdout",
     "output_type": "stream",
     "text": [
      "apakah 6 > 6 ? False\n",
      "apakah 6 < 6 ? False\n",
      "apakah 6 >= 6 ? True\n",
      "apakah 6 <= 6 ? True\n",
      "apakah 6 == 6 ? True\n",
      "apakah 6 != 6 ? False\n"
     ]
    }
   ],
   "source": [
    "val1 = int(input(\"Masukan Nilai val1:\"))\n",
    "val2 = int(input(\"Masukan Nilai val2:\"))\n",
    "print(\"apakah\",val1,\">\",val2,\"?\",val1>val2)\n",
    "print(\"apakah\",val1,\"<\",val2,\"?\",val1<val2)\n",
    "print(\"apakah\",val1,\">=\",val2,\"?\",val1>=val2)\n",
    "print(\"apakah\",val1,\"<=\",val2,\"?\",val1<=val2)\n",
    "print(\"apakah\",val1,\"==\",val2,\"?\",val1==val2)\n",
    "print(\"apakah\",val1,\"!=\",val2,\"?\",val1!=val2)"
   ]
  },
  {
   "cell_type": "markdown",
   "id": "8282fb56-c1e8-435d-bd32-2503f213afb5",
   "metadata": {},
   "source": [
    "<h1>Operasi Logika</h1>"
   ]
  },
  {
   "cell_type": "code",
   "execution_count": 38,
   "id": "6e43dd14-916e-4fdf-879c-b923a19db2db",
   "metadata": {},
   "outputs": [
    {
     "name": "stdin",
     "output_type": "stream",
     "text": [
      "isikan number1: 1\n",
      "isikan number2: 1\n",
      "isikan number3: 1\n",
      "isikan number4: 1\n"
     ]
    },
    {
     "name": "stdout",
     "output_type": "stream",
     "text": [
      "apakah 1 > 1 and 1 == 1\n",
      "False\n",
      "apakah 1 > 1 or 1 == 1\n",
      "True\n",
      "apakah 1 > 1 nand 1 == 1\n",
      "True\n"
     ]
    }
   ],
   "source": [
    "number1 = int(input(\"isikan number1:\"))\n",
    "number2 = int(input(\"isikan number2:\"))\n",
    "number3 = int(input(\"isikan number3:\"))\n",
    "number4 = int(input(\"isikan number4:\"))\n",
    "#and\n",
    "print(\"apakah\",number1,\">\",number2,\"and\",number3,\"==\",number4)\n",
    "print(number1>number2 and number3 == number4)\n",
    "#or\n",
    "print(\"apakah\",number1,\">\",number2,\"or\",number3,\"==\",number4)\n",
    "print(number1>number2 or number3 == number4)\n",
    "#not and\n",
    "print(\"apakah\",number1,\">\",number2,\"nand\",number3,\"==\",number4)\n",
    "print(not(number1>number2 and number3 == number4))"
   ]
  },
  {
   "cell_type": "markdown",
   "id": "2abb79ca-83d4-44e7-b979-7b22121c548b",
   "metadata": {},
   "source": [
    "<h1>Operator Identitas</h1>\n"
   ]
  },
  {
   "cell_type": "code",
   "execution_count": 43,
   "id": "fee07d98-cbd6-4a4f-87c5-d3e7de242eaf",
   "metadata": {},
   "outputs": [
    {
     "name": "stdout",
     "output_type": "stream",
     "text": [
      "Alamat Memori idty1 140724566239960\n",
      "Alamat Memori idty2 2550772181600\n",
      "Alamat Memori idty3 140724566239960\n",
      "apakah idty1 is idty2? False\n",
      "apakah idty2 is idty3? False\n",
      "apakah idty3 is idty1? True\n"
     ]
    }
   ],
   "source": [
    "idty1 = 10\n",
    "idty2 =\"10\"\n",
    "idty3 = idty1\n",
    "\n",
    "print(\"Alamat Memori idty1\",id(idty1))\n",
    "print(\"Alamat Memori idty2\",id(idty2))\n",
    "print(\"Alamat Memori idty3\",id(idty3))\n",
    "\n",
    "print(\"apakah idty1 is idty2?\", idty1 is idty2)\n",
    "print(\"apakah idty2 is idty3?\", idty2 is idty3)\n",
    "print(\"apakah idty3 is idty1?\", idty3 is idty1)\n",
    "print(\"apakah idty1 isnot idty2?\", idty1 is not idty2)\n",
    "print(\"apakah idty2 isnot idty3?\", idty2 is not idty3)\n",
    "print(\"apakah idty3 isnot idty1?\", idty3 is not idty1)"
   ]
  },
  {
   "cell_type": "markdown",
   "id": "9a0ca031-7040-4be3-8912-405d53d7d50c",
   "metadata": {},
   "source": [
    "<h1>Operasi Keanggotaan</h1>"
   ]
  },
  {
   "cell_type": "code",
   "execution_count": 80,
   "id": "7f684401-91d8-4dc0-9ecd-b8ed10c4aa04",
   "metadata": {
    "scrolled": true
   },
   "outputs": [
    {
     "name": "stdin",
     "output_type": "stream",
     "text": [
      "insert your fruit MANGO\n"
     ]
    },
    {
     "name": "stdout",
     "output_type": "stream",
     "text": [
      "is there any MANGO in ['watermelon', 'mango', 'star fruit', 'pineapple'] ? False\n",
      "is  MANGO not in ['watermelon', 'mango', 'star fruit', 'pineapple'] ? True\n"
     ]
    }
   ],
   "source": [
    "listFruit = [\"watermelon\",\"mango\",\"star fruit\",\"pineapple\"]\n",
    "findFruit = input(\"insert your fruit\")\n",
    "print(\"is there any\",findFruit,\"in\",listFruit,\"?\",findFruit in listFruit)\n",
    "print(\"is \",findFruit,\"not in\",listFruit,\"?\",findFruit not in listFruit)"
   ]
  },
  {
   "cell_type": "markdown",
   "id": "a936b028-8a3d-4fca-9005-b90b93b2dba2",
   "metadata": {},
   "source": [
    "<h1>Operasi Bitwise</h1>"
   ]
  },
  {
   "cell_type": "code",
   "execution_count": 70,
   "id": "62dc9671-2852-4afa-a041-39c735477e43",
   "metadata": {},
   "outputs": [
    {
     "name": "stdin",
     "output_type": "stream",
     "text": [
      "Insert Bilangan 1 8\n",
      "Insert Bilangan 2 12\n"
     ]
    },
    {
     "name": "stdout",
     "output_type": "stream",
     "text": [
      "0b1000\n",
      "0b1100\n",
      "==========&\n",
      "0b1000 = 8\n",
      "0b1000\n",
      "0b1100\n",
      "==========|\n",
      "0b1100 = 12\n"
     ]
    }
   ],
   "source": [
    "num1 = int(input(\"Insert Bilangan 1\"))\n",
    "num2 = int(input(\"Insert Bilangan 2\"))\n",
    "\n",
    "bAnd = num1 & num2\n",
    "print(bin(num1))\n",
    "print(bin(num2))\n",
    "print(\"==========&\")\n",
    "print(bin(bAnd),\"=\",bAnd)\n",
    "bOr = num1 | num2\n",
    "print(bin(num1))\n",
    "print(bin(num2))\n",
    "print(\"==========|\")\n",
    "print(bin(bOr),\"=\",bOr)"
   ]
  },
  {
   "cell_type": "markdown",
   "id": "13ca9aa7-d013-4dc6-816e-d4d03c7686a0",
   "metadata": {},
   "source": [
    "<h1>Operasi Ternary</h1>"
   ]
  },
  {
   "cell_type": "code",
   "execution_count": 85,
   "id": "c71b749c-fe80-4807-b71c-93596d21d105",
   "metadata": {},
   "outputs": [
    {
     "name": "stdin",
     "output_type": "stream",
     "text": [
      "Isikan Bilangan 2\n"
     ]
    },
    {
     "name": "stdout",
     "output_type": "stream",
     "text": [
      "2 adalah bilangan Genap\n"
     ]
    }
   ],
   "source": [
    "#ganjir or genap\n",
    "bil = int(input(\"Isikan Bilangan\"))\n",
    "oddEven = \"Genap\" if bil %2 ==0 else \"Ganjil\"\n",
    "print(bil,\"adalah bilangan\",oddEven)"
   ]
  },
  {
   "cell_type": "markdown",
   "id": "7d2f15a6-d4a3-455a-b40d-1d84aa9b2bec",
   "metadata": {},
   "source": [
    "<h1>Tugas</h1>"
   ]
  },
  {
   "cell_type": "code",
   "execution_count": 122,
   "id": "c0f1665e-fca6-49d1-a8f5-6d463d4c1419",
   "metadata": {},
   "outputs": [
    {
     "name": "stdin",
     "output_type": "stream",
     "text": [
      "Jumlah Es Buah: 1\n",
      "Jumlah Es Teler: 0\n",
      "Jumlah Es Kelapa: 0\n"
     ]
    },
    {
     "name": "stdout",
     "output_type": "stream",
     "text": [
      "Es Buah 1 * 10000 = 10000\n",
      "Es Teler 0 * 15000 = 0\n",
      "Es Kelapa 0 * 20000 = 0\n",
      "Total Harga : 10000\n",
      "discount% : 0\n",
      "Total bayar : 10000\n"
     ]
    }
   ],
   "source": [
    "#harga\n",
    "hrgEsBuah= 10000\n",
    "hrgEsTeler = 15000\n",
    "hrgEsKelapa = 20000\n",
    "\n",
    "esBuah = int(input(\"Jumlah Es Buah:\"))\n",
    "esTeler = int(input(\"Jumlah Es Teler:\"))\n",
    "esKelapa = int(input(\"Jumlah Es Kelapa:\"))\n",
    "\n",
    "totalEsBuah = hrgEsBuah * esBuah\n",
    "totalEsTeler = hrgEsTeler  * esTeler\n",
    "totalEsKelapa = hrgEsKelapa * esKelapa\n",
    "\n",
    "totalhrg = totalEsBuah + totalEsTeler + totalEsKelapa\n",
    "diskon =totalhrg/10 if totalhrg>=100000 else 0\n",
    "totalbyr = totalhrg - diskon\n",
    "\n",
    "print(\"Es Buah\",esBuah,\"*\",hrgEsBuah,\"=\",totalEsBuah)\n",
    "print(\"Es Teler\",esTeler,\"*\",hrgEsTeler,\"=\",totalEsTeler)\n",
    "print(\"Es Kelapa\",esKelapa,\"*\",hrgEsKelapa,\"=\",totalEsKelapa)\n",
    "print(\"Total Harga :\",totalhrg)\n",
    "print(\"discount% :\",diskon)\n",
    "print(\"Total bayar :\",totalbyr)"
   ]
  },
  {
   "cell_type": "code",
   "execution_count": 166,
   "id": "1c6934fe-bf57-4e94-bd2c-e096fd36b171",
   "metadata": {},
   "outputs": [
    {
     "name": "stdin",
     "output_type": "stream",
     "text": [
      "masukan bilangan: 5555\n"
     ]
    },
    {
     "name": "stdout",
     "output_type": "stream",
     "text": [
      "Hasil: 5535\n"
     ]
    }
   ],
   "source": [
    "bil = input(\"masukan bilangan:\")\n",
    "kurang =int(bil[0])+int(bil[1])+int(bil[2])+int(bil[3])\n",
    "pengurangan = int(bil) - kurang\n",
    "print(\"Hasil:\",pengurangan)"
   ]
  },
  {
   "cell_type": "code",
   "execution_count": null,
   "id": "326960e9-7cc8-4a2d-8947-522aa175f0f7",
   "metadata": {},
   "outputs": [],
   "source": []
  }
 ],
 "metadata": {
  "kernelspec": {
   "display_name": "Python [conda env:base] *",
   "language": "python",
   "name": "conda-base-py"
  },
  "language_info": {
   "codemirror_mode": {
    "name": "ipython",
    "version": 3
   },
   "file_extension": ".py",
   "mimetype": "text/x-python",
   "name": "python",
   "nbconvert_exporter": "python",
   "pygments_lexer": "ipython3",
   "version": "3.12.7"
  }
 },
 "nbformat": 4,
 "nbformat_minor": 5
}
