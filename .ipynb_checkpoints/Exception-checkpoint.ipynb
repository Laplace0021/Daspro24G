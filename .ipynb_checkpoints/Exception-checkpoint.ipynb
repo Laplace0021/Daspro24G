{
 "cells": [
  {
   "cell_type": "code",
   "execution_count": null,
   "id": "940b909d-5ce6-4a16-9103-08047d21b518",
   "metadata": {},
   "outputs": [],
   "source": [
    "angka1= int(input(\"masukan angka pertama\"))\n",
    "angka2= int(input(\"masukan angka kedua\"))\n",
    "try:\n",
    "    hasil=angka1/angka2\n",
    "except ZeroDivisionError:\n",
    "    print(\"tidak dapat membagi dengan 0\")\n",
    "else:\n",
    "    print(f\"Hasil pembagian dari {angka1} dan {angka2} = {hasil}\")\n",
    "finally:\n",
    "    print(\"program selesai\")\n"
   ]
  },
  {
   "cell_type": "code",
   "execution_count": null,
   "id": "d22cf1d9-aa69-4687-8320-0a9d168301c7",
   "metadata": {},
   "outputs": [],
   "source": [
    "\n",
    "try:\n",
    "    angka1= int(input(\"masukan angka pertama\"))\n",
    "    angka2= int(input(\"masukan angka kedua\"))\n",
    "    hasil=angka1/angka2\n",
    "except ValueError:\n",
    "    print(\"Input harus berupa angka\")\n",
    "except ZeroDivisionError:\n",
    "    print(\"tidak dapat membagi dengan 0\")\n",
    "else:\n",
    "    print(f\"Hasil pembagian dari {angka1} dan {angka2} = {hasil}\")\n",
    "finally:\n",
    "    print(\"program selesai\")\n"
   ]
  },
  {
   "cell_type": "code",
   "execution_count": null,
   "id": "60351a8b-530e-4c7a-8715-56e3835ae459",
   "metadata": {},
   "outputs": [],
   "source": [
    "\n",
    "try:\n",
    "    angka1= int(input(\"masukan angka pertama\"))\n",
    "    angka2= int(input(\"masukan angka kedua\"))\n",
    "    hasil=angka1/angka2\n",
    "except (ValueError,ZeroDivisionError) as err:\n",
    "    print(err)\n",
    "else:\n",
    "    print(f\"Hasil pembagian dari {angka1} dan {angka2} = {hasil}\")\n",
    "finally:\n",
    "    print(\"program selesai\")\n"
   ]
  },
  {
   "cell_type": "code",
   "execution_count": null,
   "id": "4e4b832d-337b-421d-97b5-b38ab888ac16",
   "metadata": {},
   "outputs": [],
   "source": [
    "#index error\n",
    "NIM = [\"001\",\"002\",\"003\",\"004\",\"005\",\"006\",\"007\"]\n",
    "try:\n",
    "    cari= int(input(\"Masukan no absen\"))\n",
    "    absen = NIM[cari+1]\n",
    "except IndexError as err:\n",
    "    print(err)\n",
    "\n"
   ]
  },
  {
   "cell_type": "code",
   "execution_count": null,
   "id": "8b15546a-16d4-4291-8e11-b20442bb8c95",
   "metadata": {},
   "outputs": [],
   "source": [
    "#index error\n",
    "try:\n",
    "    jumlahData = int(input(\"Masukan jumlah data\"))\n",
    "    listNama=[]\n",
    "    for i in range(0,jumlahData):\n",
    "        nama = input(\"Masukan nama siswa: \")\n",
    "        listNama.append(nama)\n",
    "    indeks = int(input(\"nomor absen yang ditampilkan\"))\n",
    "    if indeks <1:\n",
    "\n",
    "        print(1/0)\n",
    "    print(f\"nama siswa nomor absen {indeks}: {listNama[indeks-1]}\")\n",
    "except (ValueError, IndexError) as err:\n",
    "    print(err)\n",
    "except ZeroDivisionError:\n",
    "    print(\"tidak ada absen 0\")\n",
    "else:\n",
    "    print(listNama)\n",
    "finally:\n",
    "    print(\"Program selesai\")"
   ]
  },
  {
   "cell_type": "code",
   "execution_count": null,
   "id": "7661b088-2705-439e-ba89-54e7fac8448d",
   "metadata": {},
   "outputs": [],
   "source": [
    "#key Error\n",
    "data = {\n",
    "    'day' : [\"mon\",\"tue\",\"wed\",\"thu\",\"fri\",\"sat\",\"sun\"]\n",
    "}\n",
    "try:\n",
    "    data['month']\n",
    "except KeyError :\n",
    "    print(\"tidak ada atribut yang sama\")\n",
    "else:\n",
    "    print(data)\n",
    "finally:\n",
    "    print(\"program selesai\")"
   ]
  },
  {
   "cell_type": "code",
   "execution_count": null,
   "id": "9d9b7690-d10e-42e3-a92c-81780f2f708c",
   "metadata": {},
   "outputs": [],
   "source": [
    "#SpecialException\n",
    "class umurException(Exception):\n",
    "    pass\n",
    "\n",
    "def cekUmur(umur):\n",
    "    if(umur<=17):\n",
    "        raise umurException(\"Umur anda kurang untuk menonton film ini\")\n",
    "\n",
    "try:\n",
    "    cekUmur(2)\n",
    "    print(\"Selamat Datang\")\n",
    "except umurException as ue:\n",
    "    print(ue)\n",
    "else:\n",
    "    print(\"pilih film sesuai umur anda\")\n",
    "finally: \n",
    "    print(\"Program Selesai\")"
   ]
  },
  {
   "cell_type": "code",
   "execution_count": null,
   "id": "9cae26b1-4d9e-45e2-9dd4-2a03ed38be12",
   "metadata": {},
   "outputs": [],
   "source": [
    "#file handling\n",
    "#open(nama_file,mode)  -File dengan tipe plain teks\n",
    "#mode - a (append), r(read), w(write)\n",
    "\n",
    "f= open('data_calon_nasabah.csv','r')\n",
    "teks = f.read()\n",
    "print(teks)\n",
    "f.close()\n"
   ]
  },
  {
   "cell_type": "code",
   "execution_count": 46,
   "id": "6b9bc525-6745-4b20-810d-d2b8cde98553",
   "metadata": {},
   "outputs": [],
   "source": [
    "try:\n",
    "    with open('data.txt','a') as f:\n",
    "        f.write(\"apa kabar\\n\")\n",
    "        f.write(\"Semoga kabar baik\\n\")\n",
    "        f.write(\"sebentar lagi kita UAS\\n\")\n",
    "except FileNotFoundError:\n",
    "    print(\"File tidak ditemukan\")\n",
    "else:\n",
    "    print(\"Data berhasil dibuat\")\n",
    "finally:\n",
    "    print(\"program Selesai\")"
   ]
  },
  {
   "cell_type": "code",
   "execution_count": 86,
   "id": "a5fcf4e1-7c84-44ef-92a9-d0000d7470b5",
   "metadata": {},
   "outputs": [
    {
     "name": "stdout",
     "output_type": "stream",
     "text": [
      "<class 'pandas.core.frame.DataFrame'>\n",
      "RangeIndex: 2380 entries, 0 to 2379\n",
      "Data columns (total 15 columns):\n",
      " #   Column               Non-Null Count  Dtype  \n",
      "---  ------               --------------  -----  \n",
      " 0   game_name            2380 non-null   object \n",
      " 1   reviews_like_rate    2380 non-null   int64  \n",
      " 2   all_reviews_number   2380 non-null   int64  \n",
      " 3   release_date         2380 non-null   object \n",
      " 4   developer            2380 non-null   object \n",
      " 5   user_defined_tags    2380 non-null   object \n",
      " 6   supported_os         2380 non-null   object \n",
      " 7   supported_languages  2380 non-null   object \n",
      " 8   price                2380 non-null   float64\n",
      " 9   other_features       2380 non-null   object \n",
      " 10  age_restriction      2380 non-null   int64  \n",
      " 11  rating               2380 non-null   float64\n",
      " 12  difficulty           2380 non-null   int64  \n",
      " 13  length               2380 non-null   int64  \n",
      " 14  estimated_downloads  2380 non-null   int64  \n",
      "dtypes: float64(2), int64(6), object(7)\n",
      "memory usage: 279.0+ KB\n"
     ]
    }
   ],
   "source": [
    "import pandas as pd\n",
    "df= pd.read_csv('bestSelling_games.csv')\n",
    "\n",
    "df.info()"
   ]
  },
  {
   "cell_type": "code",
   "execution_count": 84,
   "id": "a8877253-bbab-4ac0-b19c-b8fd4171f200",
   "metadata": {},
   "outputs": [
    {
     "name": "stdout",
     "output_type": "stream",
     "text": [
      "Developer paling populer\n"
     ]
    },
    {
     "data": {
      "text/plain": [
       "developer\n",
       "Valve                971570000\n",
       "PUBG Corporation     162350000\n",
       "Facepunch Studios     99327800\n",
       "Infinity Ward         99272000\n",
       "Pocketpair            98840000\n",
       "Respawn               93560000\n",
       "Re-Logic              93430000\n",
       "Treyarch              89018000\n",
       "Ubisoft Montreal      88318500\n",
       "Game Science          70830000\n",
       "Name: estimated_downloads, dtype: int64"
      ]
     },
     "execution_count": 84,
     "metadata": {},
     "output_type": "execute_result"
    }
   ],
   "source": [
    "print(\"Developer paling populer\")\n",
    "df.groupby('developer')['estimated_downloads'].sum().sort_values(ascending=False).head(10)\n"
   ]
  },
  {
   "cell_type": "code",
   "execution_count": 74,
   "id": "26d1ad88-1f8a-4a58-964d-7952102c7a65",
   "metadata": {},
   "outputs": [
    {
     "name": "stdout",
     "output_type": "stream",
     "text": [
      "Game paling populer\n"
     ]
    },
    {
     "data": {
      "text/plain": [
       "game_name\n",
       "Counter-Strike 2              306170000\n",
       "Dota 2                        234950000\n",
       "PUBG: BATTLEGROUNDS           162350000\n",
       "Team Fortress 2                99070000\n",
       "Palworld                       98840000\n",
       "Apex Legends™                  93560000\n",
       "Terraria                       93430000\n",
       "Black Myth: Wukong             70830000\n",
       "Call of Duty®: Warzone™        70450000\n",
       "Call of Duty®: Black Ops 6     70450000\n",
       "Name: estimated_downloads, dtype: int64"
      ]
     },
     "execution_count": 74,
     "metadata": {},
     "output_type": "execute_result"
    }
   ],
   "source": [
    "print(\"Game paling populer\")\n",
    "df.groupby('game_name')['estimated_downloads'].sum().sort_values(ascending=False).head(10)\n"
   ]
  },
  {
   "cell_type": "code",
   "execution_count": 82,
   "id": "2ae6446f-44c5-44ab-b532-c65195ddbf97",
   "metadata": {},
   "outputs": [
    {
     "name": "stdout",
     "output_type": "stream",
     "text": [
      "Total:  2380.0\n",
      "gratis:  169.0\n",
      "Berbayar  2211.0\n"
     ]
    }
   ],
   "source": [
    "print(\"Total: \", df.size/15)\n",
    "gratis = df[df['price']==0.00]\n",
    "print(\"gratis: \",gratis.size/15)\n",
    "berbayar = df.size\n",
    "print(\"Berbayar \",berbayar/15 - gratis.size/15)"
   ]
  }
 ],
 "metadata": {
  "kernelspec": {
   "display_name": "Python [conda env:base] *",
   "language": "python",
   "name": "conda-base-py"
  },
  "language_info": {
   "codemirror_mode": {
    "name": "ipython",
    "version": 3
   },
   "file_extension": ".py",
   "mimetype": "text/x-python",
   "name": "python",
   "nbconvert_exporter": "python",
   "pygments_lexer": "ipython3",
   "version": "3.12.7"
  }
 },
 "nbformat": 4,
 "nbformat_minor": 5
}
