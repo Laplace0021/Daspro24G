{
 "cells": [
  {
   "cell_type": "code",
   "execution_count": 16,
   "id": "86ae9b85-54f1-4eb0-b291-30ca0f597d3d",
   "metadata": {},
   "outputs": [
    {
     "name": "stdin",
     "output_type": "stream",
     "text": [
      "Masukan nama anda: ere\n"
     ]
    },
    {
     "name": "stdout",
     "output_type": "stream",
     "text": [
      "Selamat Datang ere\n",
      "Selamat Datang Anid||Selamat Datang Budi Selamat Datang Dina\n",
      "Anggur#Apel#Semangka\n"
     ]
    }
   ],
   "source": [
    "name = input(\"Masukan nama anda:\")\n",
    "print(\"Selamat Datang\",name)\n",
    "\n",
    "print(\"Selamat Datang Anid\", end='||')\n",
    "print(\"Selamat Datang Budi\", end=' ')\n",
    "print(\"Selamat Datang Dina\")\n",
    "\n",
    "print(\"Anggur\",\"Apel\",\"Semangka\",sep='#')\n",
    "\n"
   ]
  },
  {
   "cell_type": "code",
   "execution_count": 22,
   "id": "46fdac42-18a0-4690-8fd0-54406b397ddf",
   "metadata": {},
   "outputs": [
    {
     "name": "stdin",
     "output_type": "stream",
     "text": [
      "Isikan bilangan 1 34\n",
      "Isikan bilangan 2 4\n"
     ]
    },
    {
     "name": "stdout",
     "output_type": "stream",
     "text": [
      "Hasil Penjulahan 34 + 4 = 38\n"
     ]
    }
   ],
   "source": [
    "val1 = int(input(\"Isikan bilangan 1\"))\n",
    "val2 = int(input(\"Isikan bilangan 2\"))\n",
    "result = val1 + val2\n",
    "\n",
    "print(\"Hasil Penjulahan {} + {} = {}\".format(val1,val2,result))\n"
   ]
  },
  {
   "cell_type": "code",
   "execution_count": 34,
   "id": "6cb489bb-2d68-4df8-b0ec-679daee694cf",
   "metadata": {},
   "outputs": [
    {
     "name": "stdin",
     "output_type": "stream",
     "text": [
      "Masukan Nama Awal: 343 \n",
      "Masukan Nama Tengah: 34\n",
      "Masukan Nama Akhir: 23\n"
     ]
    },
    {
     "name": "stdout",
     "output_type": "stream",
     "text": [
      "Nama Lengkap: 343  34 23\n",
      "Nama Lengkap: Muhammad Djibriel Maulidan\n"
     ]
    }
   ],
   "source": [
    "#String Index\n",
    "fName=input(\"Masukan Nama Awal:\")\n",
    "mName=input(\"Masukan Nama Tengah:\")\n",
    "lName=input(\"Masukan Nama Akhir:\")\n",
    "\n",
    "print(\"Nama Lengkap: {0} {1} {2}\".format(fName,mName,lName))\n",
    "\n",
    "#Key\n",
    "print(\"Nama Lengkap: {depan} {tengah} {belakang}\".format(belakang='Maulidan',depan='Muhammad',tengah='Djibriel'))"
   ]
  },
  {
   "cell_type": "code",
   "execution_count": 52,
   "id": "94c6e0ed-a70b-4740-808d-0650f10c4035",
   "metadata": {},
   "outputs": [
    {
     "name": "stdin",
     "output_type": "stream",
     "text": [
      "Masukan nim anda 20240040239\n"
     ]
    },
    {
     "name": "stdout",
     "output_type": "stream",
     "text": [
      "Tahun Masuk :2024\n",
      "Prodi Anda :Teknik Informatika\n",
      "No. Urut :0239\n",
      "Angka NIM yang paling akhir: 9\n",
      "Angka NIM setelah di reverse: 93204004202\n"
     ]
    }
   ],
   "source": [
    "#Slicing\n",
    "NIM = input(\"Masukan nim anda\")\n",
    "Tahun = NIM[0:4]\n",
    "KodeProdi = NIM[4:7]\n",
    "Prodi = \"Teknik Informatika\" if KodeProdi ==\"004\" else \"Tidak Keren\"\n",
    "Urut = NIM[7:]\n",
    "\n",
    "#FString\n",
    "print(f\"Tahun Masuk :{Tahun}\")\n",
    "print(f\"Prodi Anda :{Prodi}\")\n",
    "print(f\"No. Urut :{Urut}\")\n",
    "\n",
    "print(f\"Angka NIM yang paling akhir: {NIM[-1]}\")\n",
    "print(f\"Angka NIM setelah di reverse: {NIM[::-1]}\")"
   ]
  },
  {
   "cell_type": "code",
   "execution_count": 56,
   "id": "5a688a5f-89c2-4d51-8d11-1817f16c1fac",
   "metadata": {},
   "outputs": [
    {
     "name": "stdout",
     "output_type": "stream",
     "text": [
      "Belajar\n",
      "Python\n",
      "itu\n",
      "mudah\n"
     ]
    }
   ],
   "source": [
    "#Fungsi String\n",
    "#Split -> memisahkan String berdasarkan karakter\n",
    "kalimat = \"Belajar Python itu mudah\"\n",
    "kata = kalimat.split(' ')\n",
    "print(kata[0])\n",
    "print(kata[1])\n",
    "print(kata[2])\n",
    "print(kata[3])"
   ]
  },
  {
   "cell_type": "code",
   "execution_count": 64,
   "id": "223bc051-3df9-411c-95f4-1ea55ba01398",
   "metadata": {},
   "outputs": [
    {
     "name": "stdout",
     "output_type": "stream",
     "text": [
      "5\n"
     ]
    }
   ],
   "source": [
    "#find -> mencari posisi indeks dari sebuah karakter jika ada, -1 jika tidak ada\n",
    "platMotor = (\"F9876WE\")\n",
    "print(platMotor.find(\"W\"))"
   ]
  },
  {
   "cell_type": "code",
   "execution_count": 94,
   "id": "aaf408fe-0e59-4ca2-8046-077722885d40",
   "metadata": {},
   "outputs": [
    {
     "name": "stdin",
     "output_type": "stream",
     "text": [
      "Masukan email anda rerec\n"
     ]
    },
    {
     "data": {
      "text/plain": [
       "'tidak valid'"
      ]
     },
     "execution_count": 94,
     "metadata": {},
     "output_type": "execute_result"
    }
   ],
   "source": [
    "email = input(\"Masukan email anda\")\n",
    "dot = email.find(\".\")\n",
    "at = email.find(\"@\")\n",
    "print(\"valid\") if dot >= 0 and at >= 0 and at<dot else \"tidak valid\""
   ]
  },
  {
   "cell_type": "code",
   "execution_count": 150,
   "id": "6dc00f0b-4deb-4e89-b187-3e4c22e6610f",
   "metadata": {},
   "outputs": [
    {
     "name": "stdout",
     "output_type": "stream",
     "text": [
      "0.16807270735561297\n",
      "52\n",
      "Des\n",
      "Mon\n"
     ]
    }
   ],
   "source": [
    "import random as r\n",
    "nilaiFloat = r.random()\n",
    "print(nilaiFloat)\n",
    "\n",
    "nilaiInt = r.randint (0,100)\n",
    "print(nilaiInt)\n",
    "\n",
    "bulan =[\"Jan\",\"Feb\",\"Mar\",\"Apr\",\"Mei\",\"Juni\",\"Juli\",\"Aug\",\"Sep\",\"Des\"]\n",
    "cbulan = r.choice(bulan)\n",
    "print(cbulan)\n",
    "\n",
    "day = [[\"Mon\",1],[\"Tue\",2],[\"Wed\",3],[\"Thu\",4],[\"Fri\",5],[\"Sat\",6],[\"Sun\",7]]\n",
    "cday = r.choice(day)\n",
    "print(cday)"
   ]
  },
  {
   "cell_type": "code",
   "execution_count": 49,
   "id": "5f49bbbb-fc48-4260-b97a-59e3a42abcf6",
   "metadata": {},
   "outputs": [
    {
     "name": "stdin",
     "output_type": "stream",
     "text": [
      "1. indonesia ke inggris  2. inggris ke indonesia   (pilih '1' atau '2') 2\n"
     ]
    },
    {
     "name": "stdout",
     "output_type": "stream",
     "text": [
      "bahasa inggris dari jalan adalah\n"
     ]
    },
    {
     "name": "stdin",
     "output_type": "stream",
     "text": [
      "jawab : walk\n"
     ]
    },
    {
     "name": "stdout",
     "output_type": "stream",
     "text": [
      "Anda Benar\n"
     ]
    }
   ],
   "source": [
    "import random as r\n",
    "kamus= [[\"makan\",\"eat\"],[\"minum\",\"drink\"],[\"tidur\",\"sleep\"],[\"jalan\",\"walk\"],[\"lari\",\"run\"]]\n",
    "ckamus = r.choice(kamus)\n",
    "pilihbahasa = input(\"1. indonesia ke inggris  2. inggris ke indonesia   (pilih '1' atau '2')\")\n",
    "if pilihbahasa ==\"1\" :\n",
    "    print(\"bahasa inggris dari\", ckamus[1],\"adalah\")\n",
    "    jawab = input(\"jawab :\")\n",
    "    print(\"Anda Benar\") if jawab == ckamus[0] else \"Anda Salah\"\n",
    "elif pilihbahasa ==\"2\":\n",
    "    print(\"bahasa inggris dari\", ckamus[0],\"adalah\")\n",
    "    jawab = input(\"jawab :\")\n",
    "    print(\"Anda Benar\") if jawab == ckamus[1] else \"Anda Salah\"\n",
    "else: \n",
    "    print(\"pilih salah satu\")"
   ]
  },
  {
   "cell_type": "code",
   "execution_count": null,
   "id": "c289aae9-57e1-4cd7-9bb5-892de476ac83",
   "metadata": {},
   "outputs": [],
   "source": []
  }
 ],
 "metadata": {
  "kernelspec": {
   "display_name": "Python [conda env:base] *",
   "language": "python",
   "name": "conda-base-py"
  },
  "language_info": {
   "codemirror_mode": {
    "name": "ipython",
    "version": 3
   },
   "file_extension": ".py",
   "mimetype": "text/x-python",
   "name": "python",
   "nbconvert_exporter": "python",
   "pygments_lexer": "ipython3",
   "version": "3.12.7"
  }
 },
 "nbformat": 4,
 "nbformat_minor": 5
}
