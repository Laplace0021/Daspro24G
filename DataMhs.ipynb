{
 "cells": [
  {
   "cell_type": "code",
   "execution_count": 4,
   "id": "2c17e603-10f4-4838-baff-7bd10cb7b6cf",
   "metadata": {},
   "outputs": [],
   "source": [
    "mhs={}"
   ]
  },
  {
   "cell_type": "code",
   "execution_count": 8,
   "id": "1a527743-877a-4ff1-93e7-c8e945fc62b0",
   "metadata": {},
   "outputs": [],
   "source": [
    "def menu():\n",
    "    print(\"\"\"\n",
    "    ---Menu---\n",
    "    1. Tambah Mahasiswa\n",
    "    2. Tampilkan Seluruh Mahasiswa\n",
    "    3. Cari Mahasiswa\n",
    "    4. Update IPK Mahasiswa\n",
    "    5. Hapus Mahasiswa\n",
    "    6. Keluar\n",
    "    \"\"\")\n",
    "    return int(input(\"Pilihan anda:\"))\n",
    "\n",
    "def tambahMhs():\n",
    "    NIM = int(input(\"Masukan NIM yang ingin di tambahkan\"))\n",
    "    nama = input(\"Masukan Nama\")\n",
    "    jurusan = input(\"Masukan Jurusan\")\n",
    "    IPK = float(input(\"Masukan IPK\"))\n",
    "    mhs[NIM]=(nama,jurusan,IPK)\n",
    "    print(\"Mahasiswa Berhasil ditambahkan\")\n",
    "\n",
    "def findMhs():\n",
    "    NIM = int(input(\"Masukan NIM yang ingin dicari\"))\n",
    "    print(f\"NIM: {NIM} \\t Nama: {mhs[NIM][0]} \\t Jurusan:{mhs[NIM][1]} \\t IPK:{mhs[NIM][2]}\")\n",
    "\n",
    "def updIPK():\n",
    "    NIM = int(input(\"Masukan NIM yang ingin di edit IPKnya\"))\n",
    "    nama,jurusan,IPK = mhs[NIM][0],mhs[NIM][1],mhs[NIM][2]\n",
    "    IPK = float(input(\"Masukan IPK baru\"))\n",
    "    mhs[NIM]=(nama,jurusan,IPK)\n",
    "    print(\"IPK diperbaharui\")\n",
    "\n",
    "def delMhs():\n",
    "    NIM = int(input(\"Masukan NIM yang ingin di hapus\"))\n",
    "    mhs.pop(NIM)\n",
    "    print(\"Data Mahasiswa dihapus\")"
   ]
  },
  {
   "cell_type": "code",
   "execution_count": 10,
   "id": "89a1f5c0-ddbe-4efa-87bc-05566c4654f9",
   "metadata": {},
   "outputs": [
    {
     "name": "stdout",
     "output_type": "stream",
     "text": [
      "\n",
      "    ---Menu---\n",
      "    1. Tambah Mahasiswa\n",
      "    2. Tampilkan Seluruh Mahasiswa\n",
      "    3. Cari Mahasiswa\n",
      "    4. Update IPK Mahasiswa\n",
      "    5. Hapus Mahasiswa\n",
      "    6. Keluar\n",
      "    \n"
     ]
    },
    {
     "name": "stdin",
     "output_type": "stream",
     "text": [
      "Pilihan anda: 1\n",
      "Masukan NIM yang ingin di tambahkan 20240040239\n",
      "Masukan Nama Muhammad Djibriel Maulidan\n",
      "Masukan Jurusan Teknik Informatika\n",
      "Masukan IPK 3.8\n"
     ]
    },
    {
     "name": "stdout",
     "output_type": "stream",
     "text": [
      "Mahasiswa Berhasil ditambahkan\n",
      "\n",
      "    ---Menu---\n",
      "    1. Tambah Mahasiswa\n",
      "    2. Tampilkan Seluruh Mahasiswa\n",
      "    3. Cari Mahasiswa\n",
      "    4. Update IPK Mahasiswa\n",
      "    5. Hapus Mahasiswa\n",
      "    6. Keluar\n",
      "    \n"
     ]
    },
    {
     "name": "stdin",
     "output_type": "stream",
     "text": [
      "Pilihan anda: 2\n"
     ]
    },
    {
     "name": "stdout",
     "output_type": "stream",
     "text": [
      "NIM: 20240040239 \t Nama: Muhammad Djibriel Maulidan \t Jurusan: Teknik Informatika\t IPK: 3.8\n",
      "\n",
      "    ---Menu---\n",
      "    1. Tambah Mahasiswa\n",
      "    2. Tampilkan Seluruh Mahasiswa\n",
      "    3. Cari Mahasiswa\n",
      "    4. Update IPK Mahasiswa\n",
      "    5. Hapus Mahasiswa\n",
      "    6. Keluar\n",
      "    \n"
     ]
    },
    {
     "name": "stdin",
     "output_type": "stream",
     "text": [
      "Pilihan anda: 3\n",
      "Masukan NIM yang ingin dicari 20240040239\n"
     ]
    },
    {
     "name": "stdout",
     "output_type": "stream",
     "text": [
      "NIM: 20240040239 \t Nama: Muhammad Djibriel Maulidan \t Jurusan:Teknik Informatika \t IPK:3.8\n",
      "\n",
      "    ---Menu---\n",
      "    1. Tambah Mahasiswa\n",
      "    2. Tampilkan Seluruh Mahasiswa\n",
      "    3. Cari Mahasiswa\n",
      "    4. Update IPK Mahasiswa\n",
      "    5. Hapus Mahasiswa\n",
      "    6. Keluar\n",
      "    \n"
     ]
    },
    {
     "name": "stdin",
     "output_type": "stream",
     "text": [
      "Pilihan anda: 4\n",
      "Masukan NIM yang ingin di edit IPKnya 20240040239\n",
      "Masukan IPK baru 3.94\n"
     ]
    },
    {
     "name": "stdout",
     "output_type": "stream",
     "text": [
      "IPK diperbaharui\n",
      "\n",
      "    ---Menu---\n",
      "    1. Tambah Mahasiswa\n",
      "    2. Tampilkan Seluruh Mahasiswa\n",
      "    3. Cari Mahasiswa\n",
      "    4. Update IPK Mahasiswa\n",
      "    5. Hapus Mahasiswa\n",
      "    6. Keluar\n",
      "    \n"
     ]
    },
    {
     "name": "stdin",
     "output_type": "stream",
     "text": [
      "Pilihan anda: 2\n"
     ]
    },
    {
     "name": "stdout",
     "output_type": "stream",
     "text": [
      "NIM: 20240040239 \t Nama: Muhammad Djibriel Maulidan \t Jurusan: Teknik Informatika\t IPK: 3.94\n",
      "\n",
      "    ---Menu---\n",
      "    1. Tambah Mahasiswa\n",
      "    2. Tampilkan Seluruh Mahasiswa\n",
      "    3. Cari Mahasiswa\n",
      "    4. Update IPK Mahasiswa\n",
      "    5. Hapus Mahasiswa\n",
      "    6. Keluar\n",
      "    \n"
     ]
    },
    {
     "name": "stdin",
     "output_type": "stream",
     "text": [
      "Pilihan anda: 5\n",
      "Masukan NIM yang ingin di hapus 20240040239\n"
     ]
    },
    {
     "name": "stdout",
     "output_type": "stream",
     "text": [
      "Data Mahasiswa dihapus\n",
      "\n",
      "    ---Menu---\n",
      "    1. Tambah Mahasiswa\n",
      "    2. Tampilkan Seluruh Mahasiswa\n",
      "    3. Cari Mahasiswa\n",
      "    4. Update IPK Mahasiswa\n",
      "    5. Hapus Mahasiswa\n",
      "    6. Keluar\n",
      "    \n"
     ]
    },
    {
     "name": "stdin",
     "output_type": "stream",
     "text": [
      "Pilihan anda: 2\n"
     ]
    },
    {
     "name": "stdout",
     "output_type": "stream",
     "text": [
      "\n",
      "    ---Menu---\n",
      "    1. Tambah Mahasiswa\n",
      "    2. Tampilkan Seluruh Mahasiswa\n",
      "    3. Cari Mahasiswa\n",
      "    4. Update IPK Mahasiswa\n",
      "    5. Hapus Mahasiswa\n",
      "    6. Keluar\n",
      "    \n"
     ]
    },
    {
     "name": "stdin",
     "output_type": "stream",
     "text": [
      "Pilihan anda: 6\n"
     ]
    },
    {
     "name": "stdout",
     "output_type": "stream",
     "text": [
      "Anda Keluar dari program\n"
     ]
    }
   ],
   "source": [
    "while(True):\n",
    "    pil = menu()\n",
    "    if pil ==1:\n",
    "        tambahMhs()\n",
    "    elif pil ==2:\n",
    "        for key,values in mhs.items():\n",
    "            print(f\"NIM: {key} \\t Nama: {values[0]} \\t Jurusan: {values[1]}\\t IPK: {values[2]}\")\n",
    "    elif pil ==3:\n",
    "        findMhs()\n",
    "    elif pil==4:\n",
    "        updIPK()\n",
    "    elif pil == 5:\n",
    "        delMhs()\n",
    "    elif pil==6:\n",
    "        print(\"Anda Keluar dari program\")\n",
    "        break\n",
    "        \n",
    "    "
   ]
  }
 ],
 "metadata": {
  "kernelspec": {
   "display_name": "Python [conda env:base] *",
   "language": "python",
   "name": "conda-base-py"
  },
  "language_info": {
   "codemirror_mode": {
    "name": "ipython",
    "version": 3
   },
   "file_extension": ".py",
   "mimetype": "text/x-python",
   "name": "python",
   "nbconvert_exporter": "python",
   "pygments_lexer": "ipython3",
   "version": "3.12.7"
  }
 },
 "nbformat": 4,
 "nbformat_minor": 5
}
