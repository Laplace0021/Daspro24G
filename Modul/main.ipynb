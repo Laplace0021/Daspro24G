{
 "cells": [
  {
   "cell_type": "code",
   "execution_count": 32,
   "id": "1ccc573f-b206-4d71-abeb-eef9bf48c35e",
   "metadata": {},
   "outputs": [],
   "source": [
    "import aritmatika.math as math\n",
    "import konversi.convert as cnv\n",
    "import ubahBil.ubahDec as ubdec"
   ]
  },
  {
   "cell_type": "code",
   "execution_count": 34,
   "id": "bdbae7d3-7497-46f9-a72c-7142129d6ff4",
   "metadata": {},
   "outputs": [
    {
     "name": "stdin",
     "output_type": "stream",
     "text": [
      "angka 1: 1\n",
      "angka 2: 1\n"
     ]
    },
    {
     "name": "stdout",
     "output_type": "stream",
     "text": [
      "1 + 1 : 2\n",
      "1 * 1 : 1\n",
      "1 ^ 1 : 1\n"
     ]
    },
    {
     "name": "stdin",
     "output_type": "stream",
     "text": [
      "Panjang(cm):  100\n"
     ]
    },
    {
     "name": "stdout",
     "output_type": "stream",
     "text": [
      "100CM = 1.0 M\n"
     ]
    }
   ],
   "source": [
    "\n",
    "num1 = int(input(\"angka 1:\"))\n",
    "num2 = int(input(\"angka 2:\"))\n",
    "r1 = math.add(num1,num2)\n",
    "r2 = math.multiply(num1,num2)\n",
    "r3 = math.pow(num1,num2)\n",
    "\n",
    "print(f\"{num1} + {num2} : {r1}\")\n",
    "print(f\"{num1} * {num2} : {r2}\")\n",
    "print(f\"{num1} ^ {num2} : {r3}\")\n",
    "\n",
    "\n",
    "panjang = int(input(\"Panjang(cm): \"))\n",
    "hasil=cnv.CMtoMeter(panjang)\n",
    "print(f\"{panjang}CM = {hasil} M\")"
   ]
  },
  {
   "cell_type": "code",
   "execution_count": 36,
   "id": "b13ac256-b764-49fa-a92f-5d95c3429505",
   "metadata": {},
   "outputs": [],
   "source": [
    "def menuUtama():\n",
    "    print(\"\"\"\n",
    "    1. Aritmatika\n",
    "    2. Konversi\n",
    "    3. Ubah Desimal\n",
    "    4. Exit\n",
    "    \"\"\")\n",
    "\n",
    "def menuAritmatika():\n",
    "    print(\"\"\"\n",
    "    1. Tambah\n",
    "    2. Kali\n",
    "    3. Pangkat\n",
    "    4. Back\n",
    "    \"\"\")\n",
    "    return int(input(\"Pilih operasi: \"))\n",
    "\n",
    "def menuKonversi():\n",
    "    print(\"\"\"\n",
    "    1.CM to Meter\n",
    "    2.Meter to CM\n",
    "    3.Back\n",
    "    \"\"\")\n",
    "    return int(input(\"Pilih konversi: \"))\n",
    "\n",
    "def menuUbahDec():\n",
    "    print(\"\"\"\n",
    "    1. Decimal to Biner\n",
    "    2. Decimal to Octal\n",
    "    3. Decimal to Hexadecimal\n",
    "    \"\"\")\n",
    "    return int(input(\"Pilih Konversi Decimal: \"))"
   ]
  },
  {
   "cell_type": "code",
   "execution_count": 42,
   "id": "8fff3bd7-c242-4cd3-8a37-6be69843a5b0",
   "metadata": {},
   "outputs": [
    {
     "name": "stdout",
     "output_type": "stream",
     "text": [
      "\n",
      "    1. Aritmatika\n",
      "    2. Konversi\n",
      "    3. Ubah Desimal\n",
      "    4. Exit\n",
      "    \n"
     ]
    },
    {
     "name": "stdin",
     "output_type": "stream",
     "text": [
      "Isi dengan Angka:  1\n"
     ]
    },
    {
     "name": "stdout",
     "output_type": "stream",
     "text": [
      "\n",
      "    1. Tambah\n",
      "    2. Kali\n",
      "    3. Pangkat\n",
      "    4. Back\n",
      "    \n"
     ]
    },
    {
     "name": "stdin",
     "output_type": "stream",
     "text": [
      "Pilih operasi:  1\n",
      "Masukan angka pertama 1\n",
      "Masukan angka kedua 2\n"
     ]
    },
    {
     "name": "stdout",
     "output_type": "stream",
     "text": [
      "Hasilnya:  3\n",
      "\n",
      "    1. Aritmatika\n",
      "    2. Konversi\n",
      "    3. Ubah Desimal\n",
      "    4. Exit\n",
      "    \n"
     ]
    },
    {
     "name": "stdin",
     "output_type": "stream",
     "text": [
      "Isi dengan Angka:  2\n"
     ]
    },
    {
     "name": "stdout",
     "output_type": "stream",
     "text": [
      "\n",
      "    1.CM to Meter\n",
      "    2.Meter to CM\n",
      "    3.Back\n",
      "    \n"
     ]
    },
    {
     "name": "stdin",
     "output_type": "stream",
     "text": [
      "Pilih konversi:  1\n",
      "Masukan panjang: 100\n"
     ]
    },
    {
     "name": "stdout",
     "output_type": "stream",
     "text": [
      "dalam Meter:  1.0\n",
      "\n",
      "    1. Aritmatika\n",
      "    2. Konversi\n",
      "    3. Ubah Desimal\n",
      "    4. Exit\n",
      "    \n"
     ]
    },
    {
     "name": "stdin",
     "output_type": "stream",
     "text": [
      "Isi dengan Angka:  3\n"
     ]
    },
    {
     "name": "stdout",
     "output_type": "stream",
     "text": [
      "\n",
      "    1. Decimal to Biner\n",
      "    2. Decimal to Octal\n",
      "    3. Decimal to Hexadecimal\n",
      "    \n"
     ]
    },
    {
     "name": "stdin",
     "output_type": "stream",
     "text": [
      "Pilih Konversi Decimal:  1\n",
      "Masukan bilangan decimal: 100\n"
     ]
    },
    {
     "name": "stdout",
     "output_type": "stream",
     "text": [
      "Biner:  0b1100100\n",
      "\n",
      "    1. Aritmatika\n",
      "    2. Konversi\n",
      "    3. Ubah Desimal\n",
      "    4. Exit\n",
      "    \n"
     ]
    },
    {
     "name": "stdin",
     "output_type": "stream",
     "text": [
      "Isi dengan Angka:  4\n"
     ]
    },
    {
     "name": "stdout",
     "output_type": "stream",
     "text": [
      "Program Dihentikan\n",
      "Thank You!\n"
     ]
    }
   ],
   "source": [
    "while True:\n",
    "    menuUtama()\n",
    "    menu=int(input(\"Isi dengan Angka: \"))\n",
    "    if menu==1:\n",
    "        menu =menuAritmatika()\n",
    "        num1= int(input(\"Masukan angka pertama\"))\n",
    "        num2 = int(input(\"Masukan angka kedua\"))\n",
    "        if menu==1:\n",
    "            print(\"Hasilnya: \",math.add(num1,num2))\n",
    "        elif menu==2:\n",
    "            print(\"Hasilnya: \",math.multiply(num1,num2))\n",
    "        elif menu==3:\n",
    "            print(\"Hasilnya: \",math.pow(num1,num2))\n",
    "    elif menu==2:\n",
    "        menu = menuKonversi()\n",
    "        val = int(input(\"Masukan panjang:\"))\n",
    "        if menu==1:\n",
    "            print(\"dalam Meter: \",cnv.CMtoMeter(val))\n",
    "        elif menu==2:\n",
    "            print(\"dalam CM: \", cnv.MetertoCM(val))\n",
    "    elif menu==3:\n",
    "        menu = menuUbahDec()\n",
    "        dec = int(input(\"Masukan bilangan decimal:\"))\n",
    "        if menu==1:\n",
    "            print(\"Biner: \",ubdec.DectoBin(dec))\n",
    "        elif menu==2:\n",
    "            print(\"Octal: \",ubdec.DectoOct(dec))\n",
    "        elif menu==3:\n",
    "            print(\"Hexadecimal: \",ubdec.DectoHex(dec))\n",
    "    elif menu==4:\n",
    "        print(\"Program Dihentikan\\nThank You!\")\n",
    "        break\n",
    "            "
   ]
  }
 ],
 "metadata": {
  "kernelspec": {
   "display_name": "Python 3 (ipykernel)",
   "language": "python",
   "name": "python3"
  },
  "language_info": {
   "codemirror_mode": {
    "name": "ipython",
    "version": 3
   },
   "file_extension": ".py",
   "mimetype": "text/x-python",
   "name": "python",
   "nbconvert_exporter": "python",
   "pygments_lexer": "ipython3",
   "version": "3.12.7"
  }
 },
 "nbformat": 4,
 "nbformat_minor": 5
}
