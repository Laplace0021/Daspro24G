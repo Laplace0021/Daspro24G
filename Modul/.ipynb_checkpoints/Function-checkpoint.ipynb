{
 "cells": [
  {
   "cell_type": "code",
   "execution_count": 2,
   "id": "a590a648-df95-43fb-b67f-e62516503016",
   "metadata": {},
   "outputs": [],
   "source": [
    "#def namafunction(parameter):\n",
    "            #opsional\n"
   ]
  },
  {
   "cell_type": "code",
   "execution_count": 77,
   "id": "b6fa1236-5ef5-4c5b-86b3-bbb21886c1d9",
   "metadata": {},
   "outputs": [
    {
     "name": "stdout",
     "output_type": "stream",
     "text": [
      "2025-05-23\n",
      "today is weekday\n"
     ]
    }
   ],
   "source": [
    "#function tanpa parameter\n",
    "\n",
    "import datetime\n",
    "def showDate():\n",
    "    today = datetime.date.today()\n",
    "    print(today)\n",
    "showDate()\n",
    "def isWeekday():\n",
    "    day=datetime.date.today().weekday()\n",
    "    if day >=5:\n",
    "        print(\"today is weekend\") \n",
    "    else:\n",
    "        print(\"today is weekday\")\n",
    "    \n",
    "\n",
    "isWeekday()"
   ]
  },
  {
   "cell_type": "code",
   "execution_count": 27,
   "id": "67a71b50-77e0-41ce-9237-a3252a104d4d",
   "metadata": {},
   "outputs": [
    {
     "name": "stdout",
     "output_type": "stream",
     "text": [
      "2025-05-23\n"
     ]
    }
   ],
   "source": [
    "showDate()"
   ]
  },
  {
   "cell_type": "code",
   "execution_count": 45,
   "id": "7807e21a-2c01-4d03-8ebf-ac388d083dd3",
   "metadata": {},
   "outputs": [
    {
     "name": "stdout",
     "output_type": "stream",
     "text": [
      "Muhammad Djibriel Maulidan, S.Kom\n"
     ]
    }
   ],
   "source": [
    "#function dengan parameter\n",
    "def getFullName(first,middle,last):\n",
    "    return f\"{first} {middle} {last}, S.Kom\"\n",
    "print(getFullName(\"Muhammad\",\"Djibriel\",\"Maulidan\"))\n"
   ]
  },
  {
   "cell_type": "code",
   "execution_count": 105,
   "id": "1bd2188c-0bb5-41f1-a0d2-617fc60f70ec",
   "metadata": {},
   "outputs": [
    {
     "name": "stdout",
     "output_type": "stream",
     "text": [
      "25\n",
      "150\n",
      "5 + 4 = 9\n"
     ]
    }
   ],
   "source": [
    "def add(num1,num2):\n",
    "    return num1+num2\n",
    "    print(\"tidak diprint\")\n",
    "def multiply(num1,num2):\n",
    "    return num1*num2\n",
    "\n",
    "def aritmathic(num1,num2):\n",
    "    add = num1+num2\n",
    "    multiply = num1*num2\n",
    "    return add,multiply\n",
    "\n",
    "jumlah,kali = aritmathic(10,15)\n",
    "print(jumlah)\n",
    "print(kali)\n",
    "penjumlahan =add(2,3)\n",
    "perkalian=multiply(2,2)\n",
    "print(penjumlahan ,\"+\", perkalian, \"=\", penjumlahan+perkalian)"
   ]
  },
  {
   "cell_type": "code",
   "execution_count": 101,
   "id": "ada95e8d-5795-465e-92cc-300dca3ae195",
   "metadata": {},
   "outputs": [
    {
     "name": "stdout",
     "output_type": "stream",
     "text": [
      "Registration is successfull \n",
      "Username: Djibriel\n",
      "Password: admin123\n",
      "Status: False\n",
      "Role: aku atmint\n"
     ]
    }
   ],
   "source": [
    "#function dengan nilai default\n",
    "def userReg(username,password,status=False,role=\"hyper\"):\n",
    "    result= \"Registration is successfull \\n\"\n",
    "    result+= f\"Username: {username}\\n\"\n",
    "    result+= f\"Password: {password}\\n\"\n",
    "    result+= f\"Status: {status}\\n\"\n",
    "    result+=f\"Role: {role}\"\n",
    "    return result\n",
    "\n",
    "print(userReg(\"Djibriel\",\"admin123\",role=\"aku atmint\"))"
   ]
  },
  {
   "cell_type": "code",
   "execution_count": 115,
   "id": "cddb7730-95fd-4979-bfd5-c07065cc16e9",
   "metadata": {},
   "outputs": [
    {
     "name": "stdout",
     "output_type": "stream",
     "text": [
      "('mon', 'tue', 'wed')\n",
      "{'name': 'andi', 'birth': '02/04/2014'}\n",
      "andi\n",
      "02/04/2014\n"
     ]
    }
   ],
   "source": [
    "# *=argument\n",
    "# ** = keyword argument\n",
    "\n",
    "def printData(*arg,**kwarg):\n",
    "    return arg,kwarg\n",
    "\n",
    "arg,kwarg = printData(\"mon\",\"tue\",\"wed\",name=\"andi\",birth=\"02/04/2014\")\n",
    "print(arg)\n",
    "print(kwarg)\n",
    "\n",
    "for i in kwarg.items():\n",
    "    print(i[1])"
   ]
  },
  {
   "cell_type": "code",
   "execution_count": 155,
   "id": "2e14ce8e-1a9b-47df-8460-d52b09bcc6c0",
   "metadata": {},
   "outputs": [
    {
     "ename": "TypeError",
     "evalue": "sum() takes at least 1 positional argument (0 given)",
     "output_type": "error",
     "traceback": [
      "\u001b[1;31m---------------------------------------------------------------------------\u001b[0m",
      "\u001b[1;31mTypeError\u001b[0m                                 Traceback (most recent call last)",
      "Cell \u001b[1;32mIn[155], line 15\u001b[0m\n\u001b[0;32m     13\u001b[0m             multiply\u001b[38;5;241m*\u001b[39m\u001b[38;5;241m=\u001b[39mi\n\u001b[0;32m     14\u001b[0m         \u001b[38;5;28;01mreturn\u001b[39;00m multiply\n\u001b[1;32m---> 15\u001b[0m \u001b[38;5;28mprint\u001b[39m(aritmathic(\u001b[38;5;241m1\u001b[39m,\u001b[38;5;241m2\u001b[39m,\u001b[38;5;241m3\u001b[39m,\u001b[38;5;241m4\u001b[39m,\u001b[38;5;241m5\u001b[39m,oper\u001b[38;5;241m=\u001b[39m\u001b[38;5;124m\"\u001b[39m\u001b[38;5;124m+\u001b[39m\u001b[38;5;124m\"\u001b[39m))\n\u001b[0;32m     16\u001b[0m \u001b[38;5;28mprint\u001b[39m(aritmathic(\u001b[38;5;241m1\u001b[39m,\u001b[38;5;241m2\u001b[39m,\u001b[38;5;241m3\u001b[39m,\u001b[38;5;241m4\u001b[39m,\u001b[38;5;241m5\u001b[39m,oper\u001b[38;5;241m=\u001b[39m\u001b[38;5;124m\"\u001b[39m\u001b[38;5;124m*\u001b[39m\u001b[38;5;124m\"\u001b[39m))\n",
      "Cell \u001b[1;32mIn[155], line 6\u001b[0m, in \u001b[0;36maritmathic\u001b[1;34m(*arg, **kwarg)\u001b[0m\n\u001b[0;32m      4\u001b[0m add\u001b[38;5;241m=\u001b[39m\u001b[38;5;241m0\u001b[39m\n\u001b[0;32m      5\u001b[0m ()\n\u001b[1;32m----> 6\u001b[0m \u001b[38;5;28msum\u001b[39m()\n\u001b[0;32m      7\u001b[0m \u001b[38;5;28;01mfor\u001b[39;00m i \u001b[38;5;129;01min\u001b[39;00m arg:\n\u001b[0;32m      8\u001b[0m    add\u001b[38;5;241m+\u001b[39m\u001b[38;5;241m=\u001b[39mi\n",
      "\u001b[1;31mTypeError\u001b[0m: sum() takes at least 1 positional argument (0 given)"
     ]
    }
   ],
   "source": [
    "\n",
    "def aritmathic(*arg,**kwarg):\n",
    "    if kwarg[\"oper\"]== \"+\":\n",
    "        add=0\n",
    "        for i in arg:\n",
    "           add+=i\n",
    "        return add\n",
    "    elif kwarg[\"oper\"]==\"*\" : \n",
    "        multiply=1\n",
    "        for i in arg:\n",
    "            multiply*=i\n",
    "        return multiply\n",
    "print(aritmathic(1,2,3,4,5,oper=\"+\"))\n",
    "print(aritmathic(1,2,3,4,5,oper=\"*\"))"
   ]
  }
 ],
 "metadata": {
  "kernelspec": {
   "display_name": "Python [conda env:base] *",
   "language": "python",
   "name": "conda-base-py"
  },
  "language_info": {
   "codemirror_mode": {
    "name": "ipython",
    "version": 3
   },
   "file_extension": ".py",
   "mimetype": "text/x-python",
   "name": "python",
   "nbconvert_exporter": "python",
   "pygments_lexer": "ipython3",
   "version": "3.12.7"
  }
 },
 "nbformat": 4,
 "nbformat_minor": 5
}
