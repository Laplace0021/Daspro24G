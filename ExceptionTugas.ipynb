{
 "cells": [
  {
   "cell_type": "code",
   "execution_count": 16,
   "id": "edb7da3e-6097-4860-b77c-5e3ed9d3958c",
   "metadata": {},
   "outputs": [
    {
     "name": "stdout",
     "output_type": "stream",
     "text": [
      "\n",
      "    Menu:\n",
      "    1. Tambah Mahasiswa\n",
      "    2. Tampilkan Mahasiswa\n",
      "    \n"
     ]
    },
    {
     "name": "stdin",
     "output_type": "stream",
     "text": [
      "Masukan input angka 1\n",
      "Masukan NIM 3\n"
     ]
    },
    {
     "name": "stdout",
     "output_type": "stream",
     "text": [
      "NIM harus 11 digit\n",
      "\n",
      "        1. Kembali ke Menu\n",
      "        2. Keluar Program\n",
      "        \n"
     ]
    },
    {
     "name": "stdin",
     "output_type": "stream",
     "text": [
      "Masukan input angka 2\n"
     ]
    },
    {
     "name": "stdout",
     "output_type": "stream",
     "text": [
      "Program Dihentikan\n"
     ]
    }
   ],
   "source": [
    "mhs={}\n",
    "class nimException(Exception):\n",
    "    pass\n",
    "class nameException(Exception):\n",
    "    pass\n",
    "class addrException(Exception):\n",
    "    pass\n",
    "class clsException(Exception):\n",
    "    pass\n",
    "\n",
    "def cekNim(NIM):\n",
    "    if (len(NIM) != 11 ):\n",
    "        raise nimException(\"NIM harus 11 digit\")\n",
    "\n",
    "def cekName(name):\n",
    "    if (len(name) < 6):\n",
    "        raise nameException(\"Nama minimal 6 huruf\")\n",
    "        \n",
    "def cekAddr(addr):\n",
    "    if (len(addr) < 10):\n",
    "        raise addrException(\"Alamat minimal 10 huruf\")\n",
    "        \n",
    "def cekCls(cls):\n",
    "    if (cls != \"TI23\" and cls != \"TI24\"):\n",
    "        raise clsException(\"Bukan TI angkatan 23 atau 24\")\n",
    "\n",
    "def tambah():\n",
    "    try:\n",
    "        NIM = input(\"Masukan NIM\")\n",
    "        cekNim(NIM)\n",
    "        name= input(\"Masukan Nama\")\n",
    "        cekName(name)\n",
    "        addr=input(\"Masukan Alamat\")\n",
    "        cekAddr(addr)\n",
    "        cls=input(\"Masukan Kelas\")\n",
    "        cekCls(cls)\n",
    "    except (nimException,nameException,addrException,clsException) as err:\n",
    "        print(err)\n",
    "    else:\n",
    "        print(\"Data Mahasiswa berhasil ditambahkan\")\n",
    "        \n",
    "    finally:\n",
    "        mhs[NIM]= (name,addr,cls)\n",
    "\n",
    "def lihat():\n",
    "    print(\"No. \\t Nama \\t Alamat \\t Kelas \\n\")\n",
    "    for i,(nim,(name, addr, cls)) in enumerate(mhs.items(),1):\n",
    "        print(f\"{i} \\t {name} \\t {addr}\\t {cls}\\n\")\n",
    "while(True):\n",
    "    print(\"\"\"\n",
    "    Menu:\n",
    "    1. Tambah Mahasiswa\n",
    "    2. Tampilkan Mahasiswa\n",
    "    \"\"\")\n",
    "    try:\n",
    "        menu= int(input(\"Masukan input angka\"))\n",
    "    except ValueError:\n",
    "        print(\"Input harus berupa angka 1 atau 2\")\n",
    "    else:\n",
    "        if (menu == 1):\n",
    "            tambah()\n",
    "        elif (menu == 2):\n",
    "            lihat()\n",
    "    finally:\n",
    "        print(\"\"\"\n",
    "        1. Kembali ke Menu\n",
    "        2. Keluar Program\n",
    "        \"\"\")\n",
    "        try:\n",
    "            menu= int(input(\"Masukan input angka\"))\n",
    "        except ValueError:\n",
    "            print(\"Input harus berupa angka 1 atau 2\")\n",
    "        else:\n",
    "            if (menu == 1):\n",
    "                continue\n",
    "            elif (menu == 2):\n",
    "                print(\"Program Dihentikan\")\n",
    "                break"
   ]
  }
 ],
 "metadata": {
  "kernelspec": {
   "display_name": "Python [conda env:base] *",
   "language": "python",
   "name": "conda-base-py"
  },
  "language_info": {
   "codemirror_mode": {
    "name": "ipython",
    "version": 3
   },
   "file_extension": ".py",
   "mimetype": "text/x-python",
   "name": "python",
   "nbconvert_exporter": "python",
   "pygments_lexer": "ipython3",
   "version": "3.12.7"
  }
 },
 "nbformat": 4,
 "nbformat_minor": 5
}
