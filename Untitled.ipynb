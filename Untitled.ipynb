{
 "cells": [
  {
   "cell_type": "code",
   "execution_count": 82,
   "id": "079bf968-86cb-4439-a14c-6f8214bd2186",
   "metadata": {},
   "outputs": [
    {
     "name": "stdin",
     "output_type": "stream",
     "text": [
      " 3 1000\n",
      " 3 2 1 5\n",
      " 2 5 2\n",
      " 1 5\n"
     ]
    },
    {
     "name": "stdout",
     "output_type": "stream",
     "text": [
      "[[2, 1, 5], [5, 2], [5]]\n"
     ]
    }
   ],
   "source": [
    "from itertools import product\n",
    "\n",
    "K, M = input().split()\n",
    "List= []\n",
    "for x in range(int(K)):\n",
    "    temp = list(map(int, input().split()))\n",
    "    temp= temp[1:]\n",
    "    List.append(temp)\n",
    "print(List)\n",
    "for x in product(List)"
   ]
  }
 ],
 "metadata": {
  "kernelspec": {
   "display_name": "Python [conda env:base] *",
   "language": "python",
   "name": "conda-base-py"
  },
  "language_info": {
   "codemirror_mode": {
    "name": "ipython",
    "version": 3
   },
   "file_extension": ".py",
   "mimetype": "text/x-python",
   "name": "python",
   "nbconvert_exporter": "python",
   "pygments_lexer": "ipython3",
   "version": "3.12.7"
  }
 },
 "nbformat": 4,
 "nbformat_minor": 5
}
