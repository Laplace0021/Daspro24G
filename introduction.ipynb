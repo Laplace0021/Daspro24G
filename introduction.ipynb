{
 "cells": [
  {
   "cell_type": "markdown",
   "id": "3b678a37-54f5-4494-ad56-20bb24959fc2",
   "metadata": {},
   "source": [
    "<center>\n",
    "    <img src=\"https://1000logos.net/wp-content/uploads/2020/08/Python-Logo.png\" width=\"200px\" alt=\"python\">\n",
    "</center>\n",
    "<br>\n",
    "<b>Cell</b> di <i>Jupyter</i> ada 2 jenis:\n",
    "<ol>\n",
    "    <li>Markdown - (M)</li>\n",
    "    <li>Code - (Y)</li>\n",
    "</ol>"
   ]
  },
  {
   "cell_type": "markdown",
   "id": "9d1b961b-7d7f-4a14-b63b-1a4e5fbc95c7",
   "metadata": {},
   "source": [
    "Cara menambahkan cell ada 2:\n",
    "<ul>\n",
    "    <li>A (Above) di atas cell</li>\n",
    "    <li>B (Below) di bawah cell</li>\n",
    "</ul>"
   ]
  },
  {
   "cell_type": "markdown",
   "id": "986006e0-fd65-4378-948e-72fc304bbbbd",
   "metadata": {},
   "source": [
    "<table position=\"left\">\n",
    "    <tr>\n",
    "        <td>NIM</td>\n",
    "        <td>:</td>\n",
    "        <td>20240040239</td>\n",
    "    </tr>\n",
    "    <tr>\n",
    "        <td>Nama</td>\n",
    "        <td>:</td>\n",
    "        <td>Muhammad Djibriel Maulidan</td>\n",
    "    </tr>\n",
    "    <tr>\n",
    "        <td>Kelas</td>\n",
    "        <td>:</td>\n",
    "        <td>TI24G</td>\n",
    "    </tr>\n",
    "</table>"
   ]
  },
  {
   "cell_type": "code",
   "execution_count": 64,
   "id": "359d494f-daf2-4b21-a550-6ae839f570f3",
   "metadata": {},
   "outputs": [
    {
     "name": "stdout",
     "output_type": "stream",
     "text": [
      "Python is very easy\n",
      "hari ini hari jum'at\n",
      "Deklarasi variable \"A\"\n",
      "10\n"
     ]
    },
    {
     "data": {
      "text/plain": [
       "'10101010'"
      ]
     },
     "execution_count": 64,
     "metadata": {},
     "output_type": "execute_result"
    }
   ],
   "source": [
    "print(\"Python is very easy\")\n",
    "print(\"hari ini hari jum'at\")\n",
    "print('Deklarasi variable \"A\"')\n",
    "number = \"10\"\n",
    "print(number)\n",
    "int (number) + 10\n",
    "number * 4"
   ]
  }
 ],
 "metadata": {
  "kernelspec": {
   "display_name": "Python [conda env:base] *",
   "language": "python",
   "name": "conda-base-py"
  },
  "language_info": {
   "codemirror_mode": {
    "name": "ipython",
    "version": 3
   },
   "file_extension": ".py",
   "mimetype": "text/x-python",
   "name": "python",
   "nbconvert_exporter": "python",
   "pygments_lexer": "ipython3",
   "version": "3.12.7"
  }
 },
 "nbformat": 4,
 "nbformat_minor": 5
}
