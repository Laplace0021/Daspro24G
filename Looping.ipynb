{
 "cells": [
  {
   "cell_type": "code",
   "execution_count": 7,
   "id": "c12ec973-913f-4c57-8387-f6a4f967f4b5",
   "metadata": {},
   "outputs": [
    {
     "name": "stdout",
     "output_type": "stream",
     "text": [
      "Nama Buah:Apple\n",
      "Nama Buah:Banana\n",
      "Nama Buah:Watermelon\n",
      "Nama Buah:Pineapple\n",
      "Looping selesai\n"
     ]
    }
   ],
   "source": [
    "#perulangan / looping\n",
    "#For- While\n",
    "#Collections -> list, tuple, set, dictionary\n",
    "#for variabel in collections\n",
    "fruits = [\"Apple\",\"Banana\",\"Watermelon\",\"Pineapple\"]\n",
    "for fruit in fruits:\n",
    "    print(f\"Nama Buah:{fruit}\")\n",
    "print(\"Looping selesai\")"
   ]
  },
  {
   "cell_type": "code",
   "execution_count": 15,
   "id": "d6742b90-9617-43fb-b235-a57eb46edd1f",
   "metadata": {},
   "outputs": [
    {
     "name": "stdout",
     "output_type": "stream",
     "text": [
      "rata rata nilai pemrograman TI24G : 74.16666666666667\n",
      "jumlah mahasiswa yang lulus : 3\n",
      "jumlah mahasiswa yang tidak lulus : 3\n"
     ]
    }
   ],
   "source": [
    "#Hitunglah rata rata dari nilai pemrograman TI24G\n",
    "PythonScores = [90,100,85,60,60,50]\n",
    "#1.menghitung jumlah total dari nilai\n",
    "#2.membagi dengan jumlah data\n",
    "#3.Mmenghitung jumlah mahasiswa yang lulus\n",
    "#4.menghitung jumlah mahasiswa yang tidak lulus\n",
    "total = 0\n",
    "lulus = 0\n",
    "for score in PythonScores:\n",
    "    if score >= 70:\n",
    "        lulus+=1\n",
    "    total+=score\n",
    "Average=total/len(PythonScores)\n",
    "tidakLulus = len(PythonScores)-lulus\n",
    "print(f\"rata rata nilai pemrograman TI24G : {Average}\")\n",
    "print(f\"jumlah mahasiswa yang lulus : {lulus}\")\n",
    "print(f\"jumlah mahasiswa yang tidak lulus : {tidakLulus}\")\n"
   ]
  },
  {
   "cell_type": "code",
   "execution_count": 29,
   "id": "8178cbc4-5dcd-44e0-860a-242cc01da43e",
   "metadata": {},
   "outputs": [
    {
     "name": "stdin",
     "output_type": "stream",
     "text": [
      "isikan kalimat: HALO DUNIA\n"
     ]
    },
    {
     "name": "stdout",
     "output_type": "stream",
     "text": [
      "H\n",
      "A\n",
      "L\n",
      "O\n",
      " \n",
      "D\n",
      "U\n",
      "N\n",
      "I\n",
      "A\n",
      "jumlah huruf vocal sebanyak :5\n"
     ]
    }
   ],
   "source": [
    "#menghitung jumlah huruf vocal\n",
    "sentences = input(\"isikan kalimat:\")\n",
    "vocal = [\"a\",\"i\",\"u\",\"e\",\"o\"]\n",
    "total=0\n",
    "for char in sentences:\n",
    "    print(char)\n",
    "    if char.lower() in vocal :\n",
    "        total +=1\n",
    "\n",
    "print(f\"jumlah huruf vocal sebanyak :{total}\")"
   ]
  },
  {
   "cell_type": "code",
   "execution_count": 33,
   "id": "1effa9f1-2c26-4458-b472-6219c9c8900f",
   "metadata": {},
   "outputs": [
    {
     "name": "stdout",
     "output_type": "stream",
     "text": [
      "[100, 400, 900, 1600, 2500]\n",
      "['Lulus', 'Lulus', 'Lulus', 'Tidak Lulus', 'Tidak Lulus', 'Tidak Lulus']\n"
     ]
    }
   ],
   "source": [
    "#List Comprehension\n",
    "data = [10,20,30,40,50]\n",
    "square = [x**2 for x in data]\n",
    "print(square)\n",
    "\n",
    "PythonScores = [90,100,85,60,60,50]\n",
    "passExam = [\"Lulus\" if x >= 70 else \"Tidak Lulus\" for x in PythonScores]\n",
    "print(passExam)"
   ]
  },
  {
   "cell_type": "code",
   "execution_count": 35,
   "id": "0322a49c-1a78-4600-978f-528ff925217e",
   "metadata": {},
   "outputs": [
    {
     "name": "stdout",
     "output_type": "stream",
     "text": [
      "0:JAN\n",
      "1:FEB\n",
      "2:MAR\n",
      "3:APR\n",
      "4:MAY\n",
      "5:JUN\n",
      "6:JUL\n",
      "7:AUG\n",
      "8:SEP\n"
     ]
    }
   ],
   "source": [
    "#Enumerate\n",
    "months=[\"JAN\", \"FEB\", \"MAR\",\"APR\",\"MAY\",\"JUN\",\"JUL\",\"AUG\",\"SEP\"]\n",
    "for lokasi, bulan in enumerate (months):\n",
    "    print(f\"{lokasi}:{bulan}\")"
   ]
  },
  {
   "cell_type": "code",
   "execution_count": 53,
   "id": "4d252014-9642-4499-a2d5-a7058328c3db",
   "metadata": {},
   "outputs": [
    {
     "name": "stdout",
     "output_type": "stream",
     "text": [
      "Jumlah laki laki di bioskop : 4\n",
      "Jumlah perempuan di bioskop : 2\n",
      "Jumlah kursi kosong di bioskop : 3\n"
     ]
    }
   ],
   "source": [
    "#menghitung jumlah laki-laki dan perempuan pada tempat duduk di bioskop\n",
    "chairs = [\"L\",\"P\",\"L\",\"\",\"L\",\"P\",\"L\",\"\",\"\"]\n",
    "man = 0\n",
    "woman = 0\n",
    "kosong= 0\n",
    "for gender in chairs:\n",
    "    if gender==\"L\":\n",
    "        man+=1\n",
    "    elif gender==\"P\":\n",
    "        woman+=1\n",
    "    elif gender==\"\":\n",
    "        kosong+=1\n",
    "print(f\"Jumlah laki laki di bioskop : {man}\")\n",
    "print(f\"Jumlah perempuan di bioskop : {woman}\")\n",
    "print(f\"Jumlah kursi kosong di bioskop : {kosong}\")"
   ]
  },
  {
   "cell_type": "code",
   "execution_count": 125,
   "id": "34327b80-3456-45d6-8764-8d8bb6661773",
   "metadata": {},
   "outputs": [
    {
     "name": "stdout",
     "output_type": "stream",
     "text": [
      "0 : L\n",
      "1 : \n",
      "2 : P\n",
      "3 : L\n",
      "4 : P\n",
      "5 : \n",
      "6 : P\n",
      "7 : P\n",
      "2\n"
     ]
    }
   ],
   "source": [
    "chairs = [\"L\",\"\",\"P\",\"L\",\"P\",\"\",\"P\",\"P\"]\n",
    "totalCouple=0\n",
    "for i,kursi in enumerate(chairs):\n",
    "    print(f\"{i} : {kursi}\")\n",
    "    if i == len(chairs)-1:\n",
    "        break\n",
    "    if chairs[i] != \"\" and chairs[i+1] != \"\":\n",
    "        if chairs[i] != chairs[i+1]:\n",
    "            totalCouple+=1\n",
    "print(totalCouple)"
   ]
  },
  {
   "cell_type": "code",
   "execution_count": 157,
   "id": "9ddcc495-6450-44c8-b4b0-bb10c97888ce",
   "metadata": {},
   "outputs": [
    {
     "name": "stdout",
     "output_type": "stream",
     "text": [
      "0 1 2 3 4 5 6 7 8 9 \n",
      "5 6 7 8 9 10 11 12 13 14 15 \n",
      "10 20 30 40 50 60 70 80 90 100 \n",
      "10 12 14 16 18 20 \n",
      "10 9 8 7 6 5 4 3 2 1 "
     ]
    }
   ],
   "source": [
    "#range\n",
    "for i in range(10):\n",
    "    print(f\"{i}\", end=\" \")\n",
    "print()\n",
    "for j in range(5,16):\n",
    "    print(f\"{j}\", end=\" \")\n",
    "print()\n",
    "for k in range(1,11):\n",
    "    print(f\"{k*10}\",end=\" \")\n",
    "print()\n",
    "for l in range(10,21,2):\n",
    "    print(f\"{l}\",end=\" \")\n",
    "print()\n",
    "for m in range(10,0,-1):\n",
    "    print(f\"{m}\",end=\" \")"
   ]
  },
  {
   "cell_type": "code",
   "execution_count": 181,
   "id": "c93a8ace-c7e3-4c6b-bd4b-fc288ae3312a",
   "metadata": {},
   "outputs": [
    {
     "name": "stdin",
     "output_type": "stream",
     "text": [
      "Masukan Bilangan 6\n"
     ]
    },
    {
     "name": "stdout",
     "output_type": "stream",
     "text": [
      "6! = 720\n"
     ]
    }
   ],
   "source": [
    "#faktorial\n",
    "#5! = 5*4*3*2*1\n",
    "total=1\n",
    "no = int(input(\"Masukan Bilangan\"))\n",
    "for i in range(1,no+1):\n",
    "    total *= i\n",
    "print(f\"{no}! = {total}\")"
   ]
  },
  {
   "cell_type": "code",
   "execution_count": 201,
   "id": "9bd029e6-6c21-4cb0-b787-7532a6d15c46",
   "metadata": {},
   "outputs": [
    {
     "name": "stdin",
     "output_type": "stream",
     "text": [
      "masukan bilangan 7\n"
     ]
    },
    {
     "name": "stdout",
     "output_type": "stream",
     "text": [
      "7bilangan prima\n"
     ]
    }
   ],
   "source": [
    "#cek bilangan prima atau bukan prima\n",
    "n = int(input(\"masukan bilangan\"))\n",
    "faktor = 0\n",
    "for i in range(1,n+1):\n",
    "    if n % i == 0:\n",
    "        faktor +=1\n",
    "\n",
    "if faktor ==2:\n",
    "    print(f\"{n} bilangan prima\")\n",
    "else:\n",
    "    print(f\"{n} bukan bilangan prima\")"
   ]
  },
  {
   "cell_type": "code",
   "execution_count": 205,
   "id": "c003b58f-7118-47b2-911a-69468ebdcfb3",
   "metadata": {},
   "outputs": [
    {
     "name": "stdout",
     "output_type": "stream",
     "text": [
      "1   -2   3   -4   5   -6   7   -8   9   -10   "
     ]
    }
   ],
   "source": [
    "#1 -2 3 -4 5 -6 7 -8 9 -10\n",
    "#1/2! + -2/3! - 3/4! + -4/5! =\n",
    "sign =1\n",
    "for i in range (1,11):\n",
    "    result = sign *i\n",
    "    print(result, \" \", end=\" \" )\n",
    "    sign = sign * -1\n"
   ]
  }
 ],
 "metadata": {
  "kernelspec": {
   "display_name": "Python [conda env:base] *",
   "language": "python",
   "name": "conda-base-py"
  },
  "language_info": {
   "codemirror_mode": {
    "name": "ipython",
    "version": 3
   },
   "file_extension": ".py",
   "mimetype": "text/x-python",
   "name": "python",
   "nbconvert_exporter": "python",
   "pygments_lexer": "ipython3",
   "version": "3.12.7"
  }
 },
 "nbformat": 4,
 "nbformat_minor": 5
}
