{
 "cells": [
  {
   "cell_type": "markdown",
   "id": "07a4c850-2939-492e-b1a1-58921280afc5",
   "metadata": {},
   "source": [
    "<h1>Operator Aritmatika</h1>"
   ]
  },
  {
   "cell_type": "code",
   "execution_count": 8,
   "id": "bb7f9e1f-4a3e-4af5-a632-e1ddd36855c2",
   "metadata": {},
   "outputs": [
    {
     "name": "stdout",
     "output_type": "stream",
     "text": [
      "Apel yang diterima setiap temannya adalah 3\n",
      "Apel yang diterima setiap temannya setelah budi mendapat apel lagi adalah 5\n"
     ]
    }
   ],
   "source": [
    "apel = 12\n",
    "teman = 4\n",
    "bagirata = apel//teman\n",
    "print(\"Apel yang diterima setiap temannya adalah\",bagirata)\n",
    "apel+=8\n",
    "bagirata=apel//teman\n",
    "print(\"Apel yang diterima setiap temannya setelah budi mendapat apel lagi adalah\",bagirata)"
   ]
  },
  {
   "cell_type": "markdown",
   "id": "6d25d2e3-94d7-40f3-82d4-188a32a55ee0",
   "metadata": {},
   "source": [
    "<h1>Operator Perbandingan</h1>"
   ]
  },
  {
   "cell_type": "code",
   "execution_count": 20,
   "id": "95c86778-dec1-4c78-95b8-8a063b86a026",
   "metadata": {},
   "outputs": [
    {
     "name": "stdout",
     "output_type": "stream",
     "text": [
      "yang tertinggi adalah andi\n"
     ]
    }
   ],
   "source": [
    "siti = 160\n",
    "andi = 165\n",
    "tertinggi= \"siti\" if siti > andi else \"andi\"\n",
    "print(\"yang tertinggi adalah\",tertinggi)"
   ]
  },
  {
   "cell_type": "markdown",
   "id": "ca8c0102-7740-40f8-955c-827b79856392",
   "metadata": {},
   "source": [
    "<h1>Operator Logika</h1>"
   ]
  },
  {
   "cell_type": "code",
   "execution_count": 52,
   "id": "c635bb0a-b33c-4d48-8bb5-6a0da1c6af78",
   "metadata": {},
   "outputs": [
    {
     "name": "stdin",
     "output_type": "stream",
     "text": [
      "apakah cuaca cerah? jika iya ketik \"cerah\" 34\n",
      "apakah pr telah selesai? jika iya ketik \"selesai\" 34\n"
     ]
    },
    {
     "name": "stdout",
     "output_type": "stream",
     "text": [
      "apakah budi bisa bermain? tidak bisa\n"
     ]
    }
   ],
   "source": [
    "cuaca = input('apakah cuaca cerah? jika iya ketik \"cerah\"')\n",
    "pr = input('apakah pr telah selesai? jika iya ketik \"selesai\"')\n",
    "bermain = \"bisa\" if cuaca==\"cerah\" and pr==\"selesai\" else \"tidak bisa\"\n",
    "print(\"apakah budi bisa bermain?\",bermain)"
   ]
  },
  {
   "cell_type": "markdown",
   "id": "65559557-6974-4141-a1b8-3bf5bbd10608",
   "metadata": {},
   "source": [
    "<h1>Operator Bitwise</h1>"
   ]
  },
  {
   "cell_type": "code",
   "execution_count": 69,
   "id": "1e941732-7a6b-4cc9-9e37-f732727892f2",
   "metadata": {},
   "outputs": [
    {
     "name": "stdout",
     "output_type": "stream",
     "text": [
      "0b110\n",
      "0b11\n",
      "=======&\n",
      "0b10 = 2\n",
      "\n",
      "0b110\n",
      "0b11\n",
      "=======|\n",
      "0b111 = 7\n",
      "\n",
      "0b110\n",
      "0b11\n",
      "=======^\n",
      "0b101 = 5\n"
     ]
    }
   ],
   "source": [
    "bil1 = 6\n",
    "bil2 = 3\n",
    "\n",
    "bAnd = bil1 & bil2\n",
    "print(bin(bil1))\n",
    "print(bin(bil2))\n",
    "print(\"=======&\")\n",
    "print(bin(bAnd),\"=\",bAnd)\n",
    "print(\"\")\n",
    "bOr = bil1 | bil2\n",
    "print(bin(bil1))\n",
    "print(bin(bil2))\n",
    "print(\"=======|\")\n",
    "print(bin(bOr),\"=\",bOr)\n",
    "print(\"\")\n",
    "bXor = bil1 ^ bil2\n",
    "print(bin(bil1))\n",
    "print(bin(bil2))\n",
    "print(\"=======^\")\n",
    "print(bin(bXor),\"=\",bXor)"
   ]
  },
  {
   "cell_type": "markdown",
   "id": "584e3173-7e96-4c4f-b3ca-4478cf0af247",
   "metadata": {},
   "source": [
    "<h1>Operator Penugasan</h1>"
   ]
  },
  {
   "cell_type": "code",
   "execution_count": 74,
   "id": "c2ecf542-0648-4ae9-96d7-f549315f3413",
   "metadata": {},
   "outputs": [
    {
     "name": "stdout",
     "output_type": "stream",
     "text": [
      "Saldo Siswa : 50000\n",
      "Siswa Mengisi saldo 20.000\n",
      "Saldo Siswa : 70000\n",
      "Siswa membeli paket internet seharga 30.000\n",
      "Saldo Siswa : 40000\n"
     ]
    }
   ],
   "source": [
    "pulsa = 50000\n",
    "print(\"Saldo Siswa :\",pulsa)\n",
    "print(\"Siswa Mengisi saldo 20.000\")\n",
    "pulsa+=20000\n",
    "print(\"Saldo Siswa :\",pulsa)\n",
    "print(\"Siswa membeli paket internet seharga 30.000\")\n",
    "pulsa-=30000\n",
    "print(\"Saldo Siswa :\",pulsa)"
   ]
  },
  {
   "cell_type": "markdown",
   "id": "3538d639-0406-455c-a269-e9a240321a8f",
   "metadata": {},
   "source": [
    "<h1>Operator Keanggotaan</h1>"
   ]
  },
  {
   "cell_type": "code",
   "execution_count": 81,
   "id": "ec754d22-c370-4022-91e9-ed5696bb97af",
   "metadata": {},
   "outputs": [
    {
     "name": "stdout",
     "output_type": "stream",
     "text": [
      "apakah 'Eka' terdaftar sebagai peserta lomba? False\n",
      "apakah 'Python' ada didalam kalimat True\n"
     ]
    }
   ],
   "source": [
    "peserta = [\"Andi\",\"Budi\",\"Citra\",\"Dewi\"]\n",
    "print(\"apakah 'Eka' terdaftar sebagai peserta lomba?\",\"Eka\" in peserta)\n",
    "\n",
    "kalimat =\"Saya suka belajar Python\"\n",
    "print(\"apakah 'Python' ada didalam kalimat?\",\"Python\" in kalimat)"
   ]
  },
  {
   "cell_type": "markdown",
   "id": "34690d58-bb81-402e-b1f5-f2e1663c43dc",
   "metadata": {},
   "source": [
    "<h1>Operator Identitas</h1>"
   ]
  },
  {
   "cell_type": "code",
   "execution_count": 101,
   "id": "51ec0f05-7027-4b9b-9a7d-9f8732bbc4a1",
   "metadata": {},
   "outputs": [
    {
     "name": "stdout",
     "output_type": "stream",
     "text": [
      "id x : 140719917705784\n",
      "id y : 140719917705784\n",
      "apakah x dan y merujuk pada objek yang sama didalam memori? True\n",
      "id list1 : 2615009260096\n",
      "id list2 : 2614951657088\n",
      "apakah list1 dan list2 merujuk pada objek yang sama didalam memori? False\n"
     ]
    }
   ],
   "source": [
    "x=5\n",
    "y=5\n",
    "print(\"id x :\",id(x))\n",
    "print(\"id y :\",id(y))\n",
    "print(\"apakah x dan y merujuk pada objek yang sama didalam memori?\",x is y)\n",
    "list1 = [\"apel\", \"jeruk\", \"anggur\"]\n",
    "list2 = [\"apel\", \"jeruk\", \"anggur\"]\n",
    "print(\"id list1 :\",id(list1))\n",
    "print(\"id list2 :\",id(list2))\n",
    "print(\"apakah list1 dan list2 merujuk pada objek yang sama didalam memori?\",list1 is list2)\n"
   ]
  },
  {
   "cell_type": "markdown",
   "id": "50f0b31d-184b-44ea-8f5f-6b261e2ae94d",
   "metadata": {},
   "source": [
    "<h1>Operasi Ternary</h1>"
   ]
  },
  {
   "cell_type": "code",
   "execution_count": 115,
   "id": "85872c58-c42a-4f95-81bb-af291ef946d8",
   "metadata": {},
   "outputs": [
    {
     "name": "stdin",
     "output_type": "stream",
     "text": [
      "masukan angka 1001\n"
     ]
    },
    {
     "name": "stdout",
     "output_type": "stream",
     "text": [
      "angka lebih dari 100\n"
     ]
    },
    {
     "name": "stdin",
     "output_type": "stream",
     "text": [
      "Masukan nilai ujian 40\n"
     ]
    },
    {
     "name": "stdout",
     "output_type": "stream",
     "text": [
      "Kamu Tidak Lulus\n"
     ]
    }
   ],
   "source": [
    "angka = int(input(\"masukan angka\"))\n",
    "kedudukan = \"angka lebih dari 100\" if angka > 100 else \"angka tidak lebih dari 100\"\n",
    "print(kedudukan)\n",
    "\n",
    "nilai = int(input(\"Masukan nilai ujian\"))\n",
    "lulus=\"Lulus\" if nilai >= 70 else \"Tidak Lulus\"\n",
    "print(\"Kamu\",lulus)\n"
   ]
  }
 ],
 "metadata": {
  "kernelspec": {
   "display_name": "Python 3 (ipykernel)",
   "language": "python",
   "name": "python3"
  },
  "language_info": {
   "codemirror_mode": {
    "name": "ipython",
    "version": 3
   },
   "file_extension": ".py",
   "mimetype": "text/x-python",
   "name": "python",
   "nbconvert_exporter": "python",
   "pygments_lexer": "ipython3",
   "version": "3.12.7"
  }
 },
 "nbformat": 4,
 "nbformat_minor": 5
}
